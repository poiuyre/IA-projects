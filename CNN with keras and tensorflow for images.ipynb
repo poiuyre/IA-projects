{
 "cells": [
  {
   "cell_type": "markdown",
   "metadata": {
    "id": "rHoSDyYpdh-s"
   },
   "source": [
    "Assignment 7: Neural Networks using Keras and Tensorflow Please see the associated document for questions\n",
    "\n",
    "If you have problems with Keras and Tensorflow on your local installation please make sure they are updated. On Google Colab this notebook runs."
   ]
  },
  {
   "cell_type": "code",
   "execution_count": null,
   "metadata": {},
   "outputs": [],
   "source": [
    "pip install tensorflow"
   ]
  },
  {
   "cell_type": "code",
   "execution_count": 1,
   "metadata": {
    "id": "02ZYZ-WmdhwH"
   },
   "outputs": [],
   "source": [
    "# imports\n",
    "from __future__ import print_function\n",
    "import keras\n",
    "from keras import utils as np_utils\n",
    "import tensorflow\n",
    "from keras.datasets import mnist\n",
    "from tensorflow.keras import layers, models\n",
    "from keras.models import Sequential\n",
    "from keras.layers import Dense, Dropout, Flatten\n",
    "from keras.layers import Conv2D, MaxPooling2D\n",
    "from keras import backend as K\n",
    "import tensorflow as tf\n",
    "from matplotlib import pyplot as plt\n",
    "from tensorflow.keras.optimizers import Adam\n"
   ]
  },
  {
   "cell_type": "code",
   "execution_count": 2,
   "metadata": {
    "colab": {
     "base_uri": "https://localhost:8080/"
    },
    "id": "BJRCoRmew8Zd",
    "outputId": "8a74f963-06c8-4ba7-fb03-889e43dfa15e"
   },
   "outputs": [],
   "source": [
    "# Hyper-parameters data-loading and formatting\n",
    "\n",
    "batch_size = 128\n",
    "num_classes = 10\n",
    "epochs = 40\n",
    "\n",
    "img_rows, img_cols = 28, 28\n",
    "\n",
    "(x_train, lbl_train), (x_test, lbl_test) = mnist.load_data()\n",
    "\n",
    "if K.image_data_format() == 'channels_first':\n",
    "    x_train = x_train.reshape(x_train.shape[0], 1, img_rows, img_cols)\n",
    "    x_test = x_test.reshape(x_test.shape[0], 1, img_rows, img_cols)\n",
    "    input_shape = (1, img_rows, img_cols)\n",
    "else:\n",
    "    x_train = x_train.reshape(x_train.shape[0], img_rows, img_cols, 1)\n",
    "    x_test = x_test.reshape(x_test.shape[0], img_rows, img_cols, 1)\n",
    "    input_shape = (img_rows, img_cols, 1)"
   ]
  },
  {
   "cell_type": "markdown",
   "metadata": {
    "id": "-I3g1RrZ0wpI"
   },
   "source": [
    "**Preprocessing**"
   ]
  },
  {
   "cell_type": "code",
   "execution_count": 3,
   "metadata": {
    "id": "UswCCQLS0s1I"
   },
   "outputs": [
    {
     "name": "stdout",
     "output_type": "stream",
     "text": [
      "(10000, 28, 28, 1)\n"
     ]
    }
   ],
   "source": [
    "x_train = x_train.astype('float32')\n",
    "x_test = x_test.astype('float32')\n",
    "print(x_test.shape)\n",
    "x_train /= 255\n",
    "x_test /= 255\n",
    "\n",
    "y_train = keras.utils.np_utils.to_categorical(lbl_train, num_classes)\n",
    "y_test = keras.utils.np_utils.to_categorical(lbl_test, num_classes)\n"
   ]
  },
  {
   "cell_type": "code",
   "execution_count": 4,
   "metadata": {},
   "outputs": [
    {
     "name": "stdout",
     "output_type": "stream",
     "text": [
      "Model: \"sequential\"\n",
      "_________________________________________________________________\n",
      " Layer (type)                Output Shape              Param #   \n",
      "=================================================================\n",
      " conv2d (Conv2D)             (None, 22, 22, 32)        1600      \n",
      "                                                                 \n",
      " max_pooling2d (MaxPooling2D  (None, 11, 11, 32)       0         \n",
      " )                                                               \n",
      "                                                                 \n",
      " flatten (Flatten)           (None, 3872)              0         \n",
      "                                                                 \n",
      " dense (Dense)               (None, 128)               495744    \n",
      "                                                                 \n",
      " dense_1 (Dense)             (None, 10)                1290      \n",
      "                                                                 \n",
      "=================================================================\n",
      "Total params: 498,634\n",
      "Trainable params: 498,634\n",
      "Non-trainable params: 0\n",
      "_________________________________________________________________\n",
      "Epoch 1/40\n",
      "469/469 [==============================] - 4s 9ms/step - loss: 0.1928 - accuracy: 0.9439 - val_loss: 0.0671 - val_accuracy: 0.9793\n",
      "Epoch 2/40\n",
      "469/469 [==============================] - 4s 9ms/step - loss: 0.0564 - accuracy: 0.9833 - val_loss: 0.0383 - val_accuracy: 0.9877\n",
      "Epoch 3/40\n",
      "469/469 [==============================] - 4s 8ms/step - loss: 0.0395 - accuracy: 0.9882 - val_loss: 0.0347 - val_accuracy: 0.9877\n",
      "Epoch 4/40\n",
      "469/469 [==============================] - 4s 8ms/step - loss: 0.0300 - accuracy: 0.9901 - val_loss: 0.0397 - val_accuracy: 0.9870\n",
      "Epoch 5/40\n",
      "469/469 [==============================] - 4s 8ms/step - loss: 0.0233 - accuracy: 0.9924 - val_loss: 0.0370 - val_accuracy: 0.9881\n",
      "Epoch 6/40\n",
      "469/469 [==============================] - 4s 8ms/step - loss: 0.0175 - accuracy: 0.9944 - val_loss: 0.0392 - val_accuracy: 0.9881\n",
      "Epoch 7/40\n",
      "469/469 [==============================] - 4s 8ms/step - loss: 0.0129 - accuracy: 0.9962 - val_loss: 0.0360 - val_accuracy: 0.9888\n",
      "Epoch 8/40\n",
      "469/469 [==============================] - 4s 8ms/step - loss: 0.0109 - accuracy: 0.9963 - val_loss: 0.0394 - val_accuracy: 0.9876\n",
      "Epoch 9/40\n",
      "469/469 [==============================] - 4s 8ms/step - loss: 0.0093 - accuracy: 0.9970 - val_loss: 0.0357 - val_accuracy: 0.9899\n",
      "Epoch 10/40\n",
      "469/469 [==============================] - 4s 8ms/step - loss: 0.0076 - accuracy: 0.9977 - val_loss: 0.0363 - val_accuracy: 0.9894\n",
      "Epoch 11/40\n",
      "469/469 [==============================] - 4s 8ms/step - loss: 0.0062 - accuracy: 0.9979 - val_loss: 0.0418 - val_accuracy: 0.9874\n",
      "Epoch 12/40\n",
      "469/469 [==============================] - 4s 8ms/step - loss: 0.0063 - accuracy: 0.9980 - val_loss: 0.0414 - val_accuracy: 0.9888\n",
      "Epoch 13/40\n",
      "469/469 [==============================] - 4s 8ms/step - loss: 0.0055 - accuracy: 0.9980 - val_loss: 0.0455 - val_accuracy: 0.9897\n",
      "Epoch 14/40\n",
      "469/469 [==============================] - 4s 8ms/step - loss: 0.0034 - accuracy: 0.9990 - val_loss: 0.0493 - val_accuracy: 0.9873\n",
      "Epoch 15/40\n",
      "469/469 [==============================] - 4s 8ms/step - loss: 0.0047 - accuracy: 0.9985 - val_loss: 0.0407 - val_accuracy: 0.9897\n",
      "Epoch 16/40\n",
      "469/469 [==============================] - 4s 8ms/step - loss: 0.0056 - accuracy: 0.9980 - val_loss: 0.0514 - val_accuracy: 0.9880\n",
      "Epoch 17/40\n",
      "469/469 [==============================] - 4s 8ms/step - loss: 0.0044 - accuracy: 0.9984 - val_loss: 0.0534 - val_accuracy: 0.9884\n",
      "Epoch 18/40\n",
      "469/469 [==============================] - 4s 8ms/step - loss: 0.0029 - accuracy: 0.9991 - val_loss: 0.0409 - val_accuracy: 0.9903\n",
      "Epoch 19/40\n",
      "469/469 [==============================] - 4s 8ms/step - loss: 0.0027 - accuracy: 0.9991 - val_loss: 0.0410 - val_accuracy: 0.9894\n",
      "Epoch 20/40\n",
      "469/469 [==============================] - 4s 8ms/step - loss: 0.0013 - accuracy: 0.9997 - val_loss: 0.0469 - val_accuracy: 0.9906\n",
      "Epoch 21/40\n",
      "469/469 [==============================] - 4s 9ms/step - loss: 0.0046 - accuracy: 0.9985 - val_loss: 0.0411 - val_accuracy: 0.9908\n",
      "Epoch 22/40\n",
      "469/469 [==============================] - 4s 9ms/step - loss: 0.0043 - accuracy: 0.9985 - val_loss: 0.0398 - val_accuracy: 0.9903\n",
      "Epoch 23/40\n",
      "469/469 [==============================] - 4s 8ms/step - loss: 0.0014 - accuracy: 0.9996 - val_loss: 0.0405 - val_accuracy: 0.9909\n",
      "Epoch 24/40\n",
      "469/469 [==============================] - 4s 9ms/step - loss: 0.0028 - accuracy: 0.9992 - val_loss: 0.0441 - val_accuracy: 0.9905\n",
      "Epoch 25/40\n",
      "469/469 [==============================] - 4s 9ms/step - loss: 0.0023 - accuracy: 0.9992 - val_loss: 0.0447 - val_accuracy: 0.9911\n",
      "Epoch 26/40\n",
      "469/469 [==============================] - 4s 8ms/step - loss: 0.0022 - accuracy: 0.9994 - val_loss: 0.0603 - val_accuracy: 0.9891\n",
      "Epoch 27/40\n",
      "469/469 [==============================] - 4s 9ms/step - loss: 0.0037 - accuracy: 0.9988 - val_loss: 0.0529 - val_accuracy: 0.9898\n",
      "Epoch 28/40\n",
      "469/469 [==============================] - 4s 8ms/step - loss: 9.5860e-04 - accuracy: 0.9997 - val_loss: 0.0485 - val_accuracy: 0.9907\n",
      "Epoch 29/40\n",
      "469/469 [==============================] - 4s 9ms/step - loss: 0.0030 - accuracy: 0.9991 - val_loss: 0.0499 - val_accuracy: 0.9900\n",
      "Epoch 30/40\n",
      "469/469 [==============================] - 4s 9ms/step - loss: 0.0025 - accuracy: 0.9992 - val_loss: 0.0513 - val_accuracy: 0.9910\n",
      "Epoch 31/40\n",
      "469/469 [==============================] - 4s 8ms/step - loss: 0.0015 - accuracy: 0.9995 - val_loss: 0.0478 - val_accuracy: 0.9903\n",
      "Epoch 32/40\n",
      "469/469 [==============================] - 4s 8ms/step - loss: 0.0022 - accuracy: 0.9993 - val_loss: 0.0619 - val_accuracy: 0.9885\n",
      "Epoch 33/40\n",
      "469/469 [==============================] - 4s 9ms/step - loss: 0.0017 - accuracy: 0.9995 - val_loss: 0.0476 - val_accuracy: 0.9913\n",
      "Epoch 34/40\n",
      "469/469 [==============================] - 4s 8ms/step - loss: 0.0012 - accuracy: 0.9996 - val_loss: 0.0585 - val_accuracy: 0.9897\n",
      "Epoch 35/40\n",
      "469/469 [==============================] - 4s 9ms/step - loss: 0.0042 - accuracy: 0.9985 - val_loss: 0.0549 - val_accuracy: 0.9894\n",
      "Epoch 36/40\n",
      "469/469 [==============================] - 4s 9ms/step - loss: 6.5923e-04 - accuracy: 0.9998 - val_loss: 0.0464 - val_accuracy: 0.9902\n",
      "Epoch 37/40\n",
      "469/469 [==============================] - 4s 8ms/step - loss: 1.5705e-04 - accuracy: 1.0000 - val_loss: 0.0427 - val_accuracy: 0.9919\n",
      "Epoch 38/40\n",
      "469/469 [==============================] - 4s 8ms/step - loss: 1.9232e-05 - accuracy: 1.0000 - val_loss: 0.0428 - val_accuracy: 0.9918\n",
      "Epoch 39/40\n",
      "469/469 [==============================] - 4s 9ms/step - loss: 1.1682e-05 - accuracy: 1.0000 - val_loss: 0.0431 - val_accuracy: 0.9920\n",
      "Epoch 40/40\n",
      "469/469 [==============================] - 4s 9ms/step - loss: 8.5627e-06 - accuracy: 1.0000 - val_loss: 0.0432 - val_accuracy: 0.9919\n",
      "Test loss: 0.04322991147637367\n",
      "Test accuracy: 0.9919000267982483\n"
     ]
    }
   ],
   "source": [
    "#CNN model\n",
    "model = models.Sequential()\n",
    "model.add(layers.Conv2D(32, (7, 7), activation='relu', input_shape=input_shape))\n",
    "model.add(layers.MaxPooling2D((2, 2)))\n",
    "model.add(layers.Flatten())\n",
    "model.add(layers.Dense(128, activation='relu'))\n",
    "model.add(layers.Dense(num_classes, activation='softmax'))\n",
    "\n",
    "#Even if adam learning rate for dedault was 0.001 we still defining it here\n",
    "optimizer_a = Adam(learning_rate=0.001)\n",
    "\n",
    "model.compile(optimizer=optimizer_a,\n",
    "              loss='categorical_crossentropy',\n",
    "              metrics=['accuracy'])\n",
    "\n",
    "model.summary()\n",
    "\n",
    "#Train\n",
    "model.fit(x_train, y_train,\n",
    "          batch_size=batch_size,\n",
    "          epochs=epochs,\n",
    "          verbose=1,\n",
    "          validation_data=(x_test, y_test))\n",
    "\n",
    "#Evaluate\n",
    "score = model.evaluate(x_test, y_test, verbose=0)\n",
    "print('Test loss:', score[0])\n",
    "print('Test accuracy:', score[1])"
   ]
  },
  {
   "cell_type": "code",
   "execution_count": null,
   "metadata": {
    "id": "N7Aer42gk1W9"
   },
   "outputs": [],
   "source": [
    "\n",
    "## Define model ##\n",
    "model = Sequential()\n",
    "\n",
    "model.add(Flatten())\n",
    "model.add(Dense(500, activation = 'relu'))\n",
    "model.add(Dense(300, activation = 'relu'))\n",
    "model.add(Dense(num_classes, activation='softmax'))\n",
    "\n",
    "\n",
    "model.compile(loss=keras.losses.categorical_crossentropy,\n",
    "               optimizer=tensorflow.keras.optimizers.SGD(learning_rate = 0.1),\n",
    "        metrics=['accuracy'],)\n",
    "\n",
    "fit_info = model.fit(x_train, y_train,\n",
    "           batch_size=batch_size,\n",
    "           epochs=epochs,\n",
    "           verbose=1,\n",
    "           validation_data=(x_test, y_test))\n",
    "score = model.evaluate(x_test, y_test, verbose=0)\n",
    "print('Test loss: {}, Test accuracy {}'.format(score[0], score[1]))"
   ]
  },
  {
   "cell_type": "code",
   "execution_count": null,
   "metadata": {},
   "outputs": [],
   "source": [
    "plt.plot(fit_info.history['accuracy'], label=f'Training Accuracy (Epoch {epochs})')\n",
    "plt.plot(fit_info.history['val_accuracy'], label=f'Validation Accuracy (Epoch {epochs})')\n",
    "plt.xlabel('Epoch')\n",
    "plt.ylabel('Accuracy')\n",
    "plt.legend()\n",
    "plt.show()"
   ]
  },
  {
   "cell_type": "code",
   "execution_count": null,
   "metadata": {},
   "outputs": [],
   "source": [
    "# Define regularization factors to explore\n",
    "import numpy as np\n",
    "import tensorflow as tf\n",
    "from tensorflow.keras.models import Sequential\n",
    "from tensorflow.keras.layers import Flatten, Dense\n",
    "from tensorflow.keras.optimizers import SGD\n",
    "from tensorflow.keras.datasets import mnist\n",
    "import matplotlib.pyplot as plt\n",
    "# 0.00005, 0.00001, 0.0005, 0.0001\n",
    "regularization_factors = [0.00051]\n",
    "num_replicates = 3\n",
    "val_accuracies = []\n",
    "\n",
    "# Train networks with weight decay for different regularization factors and replicates\n",
    "for i in regularization_factors:\n",
    "    replicate_accuracies = []\n",
    "\n",
    "    for replicate in range(num_replicates):\n",
    "        # Build the neural network with weight decay\n",
    "        model = Sequential()\n",
    "        \n",
    "        model.add(Flatten())\n",
    "        model.add(Dense(500, activation='relu', kernel_regularizer=tf.keras.regularizers.l2(i)))\n",
    "        model.add(Dense(300, activation='relu', kernel_regularizer=tf.keras.regularizers.l2(i)))\n",
    "        model.add(Dense(10, activation='softmax'))\n",
    "\n",
    "        # Compile the model\n",
    "        model.compile(\n",
    "            loss='categorical_crossentropy',\n",
    "            optimizer=tensorflow.keras.optimizers.SGD(learning_rate=0.1),\n",
    "            metrics=['accuracy']\n",
    "        )\n",
    "\n",
    "        # Train the model\n",
    "        history = model.fit(x_train, y_train, epochs=40, validation_data=(x_test, y_test), verbose=1)\n",
    "       \n",
    "        # Evaluate and store validation accuracy\n",
    "        _, val_accuracy = model.evaluate(x_test, y_test, verbose=0)\n",
    "        replicate_accuracies.append(val_accuracy)\n",
    "\n",
    "    # Store mean and standard deviation of validation accuracy for the current regularization factor\n",
    "    val_accuracies.append((np.mean(replicate_accuracies), np.std(replicate_accuracies)))\n",
    "\n",
    "score = model.evaluate(x_test, y_test, verbose=0)\n",
    "print('Test loss: {}, Test accuracy {}'.format(score[0], score[1]))"
   ]
  },
  {
   "cell_type": "code",
   "execution_count": null,
   "metadata": {},
   "outputs": [],
   "source": []
  },
  {
   "cell_type": "code",
   "execution_count": null,
   "metadata": {},
   "outputs": [],
   "source": [
    "# Plot final validation accuracy with standard deviation as a function of the regularization factor\n",
    "val_means, val_stds = zip(*val_accuracies)\n",
    "\n",
    "plt.errorbar(regularization_factors, val_means, yerr=val_stds, marker='o', linestyle='-', label='Validation Accuracy')\n",
    "plt.xscale('log')\n",
    "  # Use a log scale for better visualization\n",
    "plt.xlabel('Regularization Factor')\n",
    "plt.ylabel('Validation Accuracy')\n",
    "plt.title('Validation Accuracy with Weight Decay')\n",
    "plt.legend()\n",
    "plt.show()"
   ]
  },
  {
   "cell_type": "code",
   "execution_count": null,
   "metadata": {},
   "outputs": [],
   "source": []
  },
  {
   "cell_type": "code",
   "execution_count": null,
   "metadata": {},
   "outputs": [],
   "source": []
  },
  {
   "cell_type": "code",
   "execution_count": null,
   "metadata": {},
   "outputs": [],
   "source": []
  }
 ],
 "metadata": {
  "colab": {
   "collapsed_sections": [],
   "name": "Assignment_7_NN.ipynb",
   "provenance": []
  },
  "kernelspec": {
   "display_name": "Python 3 (ipykernel)",
   "language": "python",
   "name": "python3"
  },
  "language_info": {
   "codemirror_mode": {
    "name": "ipython",
    "version": 3
   },
   "file_extension": ".py",
   "mimetype": "text/x-python",
   "name": "python",
   "nbconvert_exporter": "python",
   "pygments_lexer": "ipython3",
   "version": "3.9.18"
  }
 },
 "nbformat": 4,
 "nbformat_minor": 1
}
