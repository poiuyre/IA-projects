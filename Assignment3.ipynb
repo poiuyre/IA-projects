{
 "cells": [
  {
   "cell_type": "markdown",
   "id": "b235b406",
   "metadata": {},
   "source": [
    "Group 13\n",
    "Module 3\n",
    "Francisco Castellano Rodriguez - 020425T136- fracas@chalmers.se\n",
    "Ivan Frolyak Ostrovskyy - 000706T617 - frolyak@chalmers.se\n",
    "Program: Exchange Student (Erasmus)\n",
    "Time spent: 10h each."
   ]
  },
  {
   "cell_type": "markdown",
   "id": "c8e410f2",
   "metadata": {},
   "source": [
    "We hereby declare that we have both actively participated in solving every exercise. All solutions are entirely our own work, without having taken part in other solutions."
   ]
  },
  {
   "cell_type": "markdown",
   "id": "800ca159",
   "metadata": {},
   "source": [
    "First, we are going to define our classifier with the respective functions of training, predicting and evaluating.\n",
    "There are a lot of algorithms done to do this, but to get a bit inside and understand it better we are going to define our own classifier with help of some functions from the sklearn library."
   ]
  },
  {
   "cell_type": "markdown",
   "id": "80b03725",
   "metadata": {},
   "source": [
    "Our classifier is a simple implementation of the K-Means clustering algorithm. It uses the KMeans function from the sklearn.cluster module to perform the clustering and assigns labels to the centroids based on the most common label in each cluster. It can also predict the labels for new data points and calculate the accuracy of these predictions."
   ]
  },
  {
   "cell_type": "markdown",
   "id": "ea17ed99",
   "metadata": {},
   "source": [
    "K-Means is an unsupervised machine learning algorithm used to partition a dataset into K clusters. Each cluster is defined by the mean value of the data points that belong to it, also known as the cluster centroid."
   ]
  },
  {
   "cell_type": "code",
   "execution_count": 1,
   "id": "fbee620a",
   "metadata": {},
   "outputs": [],
   "source": [
    "import torch\n",
    "from sklearn.cluster import KMeans\n",
    "import numpy as np\n",
    "\n",
    "class KMeansClassifier:\n",
    "    def __init__(self, n_clusters, max_iter = 300):\n",
    "        \"\"\"\n",
    "            Initialize the KMeansClassifier with the specified number of clusters and maximum iterations.\n",
    "\n",
    "            Parameters:\n",
    "            - n_clusters: int, the number of clusters to create.\n",
    "            - max_iter: int, maximum number of iterations for KMeans clustering (default is 300).\n",
    "        \"\"\"\n",
    "        self.n_clusters = n_clusters\n",
    "        self.max_iter = max_iter\n",
    "        self.centroid_labels = None\n",
    "        self.kmeans = None\n",
    "\n",
    "    def fit(self, X, y):\n",
    "        \"\"\"\n",
    "            Fits the KMeansClassifier to the input data.\n",
    "\n",
    "            Parameters:\n",
    "            - X: torch.Tensor or pandas.DataFrame, input features for clustering.\n",
    "            - y: array-like, true labels for assigning labels to centroids.\n",
    "        \"\"\"\n",
    "        X_tensor = X if isinstance(X, torch.Tensor) else torch.tensor(X.values, dtype=torch.float32)\n",
    "\n",
    "        # Use sklearn's KMeans for clustering\n",
    "        self.kmeans = KMeans(n_clusters = self.n_clusters, max_iter = self.max_iter, random_state = 0)\n",
    "        clusters = self.kmeans.fit_predict(X_tensor)\n",
    "\n",
    "        # Assign labels to centroids\n",
    "        self.centroid_labels = np.zeros(self.n_clusters)\n",
    "        for i in range(self.n_clusters):\n",
    "            cluster_indices = (clusters == i)\n",
    "            if np.any(cluster_indices):\n",
    "                self.centroid_labels[i] = np.argmax(np.bincount(y[cluster_indices]))\n",
    "\n",
    "\n",
    "    def predict(self, X):\n",
    "        \"\"\"\n",
    "            Predict labels for input data based on the nearest centroids.\n",
    "\n",
    "            Parameters:\n",
    "            - X: torch.Tensor or pandas.DataFrame, input features for prediction.\n",
    "\n",
    "            Returns:\n",
    "            - array-like, predicted labels.\n",
    "        \"\"\"\n",
    "        X_tensor = X if isinstance(X, torch.Tensor) else torch.tensor(X.values, dtype = torch.float32)\n",
    "        \n",
    "        # Predict the nearest centroid for each sample\n",
    "        nearest_centroids = self.kmeans.predict(X_tensor)\n",
    "        return self.centroid_labels[nearest_centroids]\n",
    "\n",
    "    def score(self, X, y):\n",
    "        \"\"\"\n",
    "            Calculate the accuracy score of predictions compared to true labels.\n",
    "\n",
    "            Parameters:\n",
    "            - X: torch.Tensor or pandas.DataFrame, input features for prediction.\n",
    "            - y: array-like, true labels for comparison.\n",
    "\n",
    "            Returns:\n",
    "            - float, accuracy score.\n",
    "        \"\"\"\n",
    "        predictions = self.predict(X)\n",
    "        return np.mean(predictions == y)"
   ]
  },
  {
   "cell_type": "markdown",
   "id": "f0c4b5ce",
   "metadata": {},
   "source": [
    "For those who didn't know what a 'nearest centroid' means, a centroid is the mean position of all the data points in a cluster. The k-means algorithm aims to partition the data into k clusters, and for each data point, it assigns it to the cluster whose centroid is closest in terms of Euclidean distance. The term \"nearest centroid\" refers to the centroid that is closest to a given data point based on the distance metric used."
   ]
  },
  {
   "cell_type": "markdown",
   "id": "856755d9",
   "metadata": {},
   "source": [
    "Our classifier is initialized with two parameters: n_clusters and max_iter. n_clusters specifies the number of clusters to be created, and max_iter sets the maximum number of iterations for the K-Means algorithm. The class also initializes centroid_labels and kmeans as None. These will be used later in the fit method."
   ]
  },
  {
   "cell_type": "markdown",
   "id": "196adc8e",
   "metadata": {},
   "source": [
    "The fit method is where the actual clustering happens. It takes two parameters: X and y. X is the input data for clustering, and y is the true labels for assigning labels to centroids.\n",
    "The method first checks if X is a PyTorch tensor. If not, it converts X to a PyTorch tensor. Then, it uses the KMeans function from the sklearn.cluster module to perform the clustering. The number of clusters and maximum iterations are set according to the class initialization parameters.\n",
    "After clustering, the method assigns labels to the centroids. It does this by iterating over each cluster and finding the most common label among the data points in that cluster. This is done using the np.argmax and np.bincount functions. The labels are stored in the centroid_labels attribute."
   ]
  },
  {
   "cell_type": "markdown",
   "id": "f22bf523",
   "metadata": {},
   "source": [
    "The predict method is used to predict the labels for a new set of data points. It takes X as input, which are the features for prediction. Similar to the fit method, it first checks if X is a PyTorch tensor and converts it if necessary.\n",
    "The method then uses the predict function of the KMeans object to find the nearest centroid for each data point in X. It returns the labels of these centroids as the predicted labels."
   ]
  },
  {
   "cell_type": "markdown",
   "id": "1a7a31c2",
   "metadata": {},
   "source": [
    "The score method calculates the accuracy score of the predictions compared to the true labels. It takes X and y as input, where X are the features for prediction and y are the true labels for comparison.\n",
    "The method first uses the predict method to get the predicted labels for X. It then compares these predictions to the true labels y and calculates the mean accuracy."
   ]
  },
  {
   "cell_type": "code",
   "execution_count": 34,
   "id": "2ecdd92b",
   "metadata": {},
   "outputs": [
    {
     "name": "stdout",
     "output_type": "stream",
     "text": [
      "(2071, 10)\n",
      "(824, 10)\n",
      "(1352, 10)\n",
      "(1351, 10)\n"
     ]
    }
   ],
   "source": [
    "import torch\n",
    "import pandas as pd\n",
    "from sklearn.model_selection import train_test_split\n",
    "import matplotlib.pyplot as plt\n",
    "import seaborn as sns\n",
    "\n",
    "# Load dataset\n",
    "df1 = pd.read_csv('Beijing_labeled.csv')\n",
    "df2 = pd.read_csv('Shenyang_labeled.csv')\n",
    "df3 = pd.read_csv('Guangzhou_labeled.csv')\n",
    "df4 = pd.read_csv('Shanghai_labeled.csv')\n",
    "\n",
    "\n",
    "# Preprocess data\n",
    "X_b = df1.drop('PM_HIGH', axis=1)\n",
    "y_b = df1['PM_HIGH']\n",
    "\n",
    "X_h = df2.drop('PM_HIGH', axis=1)\n",
    "y_h = df2['PM_HIGH']\n",
    "\n",
    "X_g = df3.drop('PM_HIGH', axis = 1)\n",
    "y_g = df3['PM_HIGH']\n",
    "X_s = df4.drop('PM_HIGH', axis = 1)\n",
    "y_s = df4['PM_HIGH']\n",
    "\n",
    "print(X_b.shape)\n",
    "print(X_h.shape)\n",
    "print(X_g.shape)\n",
    "print(X_s.shape)\n",
    "\n",
    "\n",
    "# Split data into training/validation and test sets\n",
    "train_val_X_b, test_X_b, train_val_y_b, test_y_b = train_test_split(X_b, y_b, test_size = 0.2, random_state = 42)\n",
    "\n",
    "train_val_X_h, test_X_h, train_val_y_h, test_y_h = train_test_split(X_h, y_h, test_size = 0.2, random_state = 42)\n",
    "\n",
    "train_val_X_g, test_X_g, train_val_y_g, test_y_g = train_test_split(X_g, y_g, test_size = 0.2, random_state = 42)\n",
    "\n",
    "train_val_X_s, test_X_s, train_val_y_s, test_y_s = train_test_split(X_s, y_s, test_size = 0.2, random_state = 42)\n",
    "\n",
    "# Further split training/validation data\n",
    "train_X_b, val_X_b, train_y_b, val_y_b = train_test_split(train_val_X_b, train_val_y_b, test_size = 0.25, random_state = 42)\n",
    "\n",
    "train_X_h, val_X_h, train_y_h, val_y_h = train_test_split(train_val_X_h, train_val_y_h, test_size = 0.25, random_state = 42)\n",
    "\n",
    "train_X_g, val_X_g, train_y_g, val_y_g = train_test_split(train_val_X_g, train_val_y_g, test_size = 0.25, random_state = 42)\n",
    "\n",
    "train_X_s, val_X_s, train_y_s, val_y_s = train_test_split(train_val_X_s, train_val_y_s, test_size = 0.25, random_state = 42)"
   ]
  },
  {
   "cell_type": "markdown",
   "id": "3f4d54af",
   "metadata": {},
   "source": [
    "Our data preprocessing consists in remove the column we want to predict with drop() and with that we separate the features that help us to predict form the target feature that we want to predict."
   ]
  },
  {
   "cell_type": "markdown",
   "id": "54e63cd8",
   "metadata": {},
   "source": [
    "We used 20% of the dataset for test and the 80% rest was divided by 75% for training and 25% for validation. We try less percentage for testing but we get a bit of overfitting when evaluating it in the test set, so we finally decided for this percentages."
   ]
  },
  {
   "cell_type": "markdown",
   "id": "5231b323",
   "metadata": {},
   "source": [
    "We can as well, take a look at something interesting and it was that the shapes of our datasets were very different like we have a lot of data for the Beijing dataset but less in the Shengyang dataset, but the last two datatset were more balanced, we can watch out later if this impact on the performance of our model."
   ]
  },
  {
   "cell_type": "markdown",
   "id": "68cc5e87",
   "metadata": {},
   "source": [
    "Now, we are going to train our training dataset for both cities(Beijing and Shengyang) with the fit function that we have define, then we validate the model that we have trained."
   ]
  },
  {
   "cell_type": "code",
   "execution_count": 22,
   "id": "aab331ed",
   "metadata": {},
   "outputs": [
    {
     "name": "stderr",
     "output_type": "stream",
     "text": [
      "C:\\Users\\Fran\\anaconda3\\envs\\dml\\lib\\site-packages\\sklearn\\cluster\\_kmeans.py:1412: FutureWarning: The default value of `n_init` will change from 10 to 'auto' in 1.4. Set the value of `n_init` explicitly to suppress the warning\n",
      "  super()._check_params_vs_input(X, default_n_init=10)\n",
      "C:\\Users\\Fran\\anaconda3\\envs\\dml\\lib\\site-packages\\sklearn\\cluster\\_kmeans.py:1412: FutureWarning: The default value of `n_init` will change from 10 to 'auto' in 1.4. Set the value of `n_init` explicitly to suppress the warning\n",
      "  super()._check_params_vs_input(X, default_n_init=10)\n",
      "C:\\Users\\Fran\\anaconda3\\envs\\dml\\lib\\site-packages\\sklearn\\cluster\\_kmeans.py:1436: UserWarning: KMeans is known to have a memory leak on Windows with MKL, when there are less chunks than available threads. You can avoid it by setting the environment variable OMP_NUM_THREADS=2.\n",
      "  warnings.warn(\n"
     ]
    },
    {
     "name": "stdout",
     "output_type": "stream",
     "text": [
      "Training Accuracy b: 0.7326892109500805\n",
      "Training Accuracy h: 0.8259109311740891\n",
      "Validation Accuracy b: 0.7560386473429952\n",
      "Validation Accuracy h: 0.8787878787878788\n"
     ]
    }
   ],
   "source": [
    "n_clusters = 10\n",
    "classifier_b = KMeansClassifier(n_clusters)\n",
    "classifier_b.fit(train_X_b, train_y_b)\n",
    "\n",
    "classifier_h = KMeansClassifier(n_clusters)\n",
    "classifier_h.fit(train_X_h, train_y_h)\n",
    "\n",
    "# Print training accuracy\n",
    "train_accuracy_b = classifier_b.score(train_X_b, train_y_b)\n",
    "print(f'Training Accuracy b: {train_accuracy_b}')\n",
    "\n",
    "train_accuracy_h = classifier_h.score(train_X_h, train_y_h)\n",
    "print(f'Training Accuracy h: {train_accuracy_h}')\n",
    "\n",
    "# Validate classifier\n",
    "validation_accuracy_b = classifier_b.score(val_X_b, val_y_b)\n",
    "print(f'Validation Accuracy b: {validation_accuracy_b}')\n",
    "\n",
    "validation_accuracy_h = classifier_h.score(val_X_h, val_y_h)\n",
    "print(f'Validation Accuracy h: {validation_accuracy_h}')"
   ]
  },
  {
   "cell_type": "markdown",
   "id": "894e1088",
   "metadata": {},
   "source": [
    "We can see that the training accuracy is lower than the validation one and that happens because the training starts from nothing so it start very low and starts going up but the accuracy starts from the training model so it have a higher start and probably a higher finish values, the reasons if that not happens can be mostly overfitting the system for training and then the accuracy goes down in validation or because we have a limited information to predict well because our dataset is too small."
   ]
  },
  {
   "cell_type": "code",
   "execution_count": 15,
   "id": "93e6dec0",
   "metadata": {},
   "outputs": [
    {
     "name": "stdout",
     "output_type": "stream",
     "text": [
      "Test Accuracy: 0.7614457831325301\n",
      "Test Accuracy: 0.8121212121212121\n"
     ]
    }
   ],
   "source": [
    "# Test classifier\n",
    "test_accuracy_b = classifier_b.score(test_X_b, test_y_b)\n",
    "print(f'Test Accuracy b: {test_accuracy_b}')\n",
    "\n",
    "test_accuracy_h = classifier_h.score(test_X_h, test_y_h)\n",
    "print(f'Test Accuracy h: {test_accuracy_h}')"
   ]
  },
  {
   "cell_type": "markdown",
   "id": "1cd43c92",
   "metadata": {},
   "source": [
    "This results are a bit weird, because we know from before that the Beijing dataset have more data than the Shengyang one, so generally, machine learning models benefit from more data. Larger datasets tend to encompass a broader range of possible scenarios, which can help the model learn and generalize better. Knowing that, what is happening here is in the Beijing results is that thanks to having more data, it generalizes better to unseeen data as we can see the improve of the model in the test set, but performs worst than the other dataset due to this generalization. Regarding to the Shengyang model, it performs well on  the validation data but this is not nice in this case, we can see the drop of accuracy in the evaluation is happening because our model has overfit and that is because the low quantity of data that we have on this dataset."
   ]
  },
  {
   "cell_type": "code",
   "execution_count": 40,
   "id": "2bf46345",
   "metadata": {},
   "outputs": [
    {
     "data": {
      "image/png": "[encoded data removed]",
      "text/plain": [
       "<Figure size 640x480 with 1 Axes>"
      ]
     },
     "metadata": {},
     "output_type": "display_data"
    }
   ],
   "source": [
    "# Create a DataFrame for plotting\n",
    "plot_data0 = pd.DataFrame({\n",
    "    'Dataset': [\"Beijing\", \"Shenyang\"],\n",
    "    'Training Accuracy': [train_accuracy_b, train_accuracy_h]\n",
    "})\n",
    "\n",
    "# Plotting\n",
    "sns.lineplot(x = 'Dataset', y = 'Training Accuracy', data = plot_data0, marker = 'o')\n",
    "plt.title('Comparison of Training Accuracies')\n",
    "plt.ylim(0, 1) \n",
    "plt.grid(True)\n",
    "plt.show()"
   ]
  },
  {
   "cell_type": "code",
   "execution_count": 36,
   "id": "1b1f11f7",
   "metadata": {},
   "outputs": [
    {
     "data": {
      "image/png": "[encoded data removed]",
      "text/plain": [
       "<Figure size 640x480 with 1 Axes>"
      ]
     },
     "metadata": {},
     "output_type": "display_data"
    }
   ],
   "source": [
    "# Create a DataFrame for plotting\n",
    "plot_data1 = pd.DataFrame({\n",
    "    'Dataset': [\"Beijing\", \"Shenyang\"],\n",
    "    'Validation Accuracy': [validation_accuracy_b, validation_accuracy_h]\n",
    "})\n",
    "\n",
    "# Plotting\n",
    "sns.lineplot(x = 'Dataset', y = 'Validation Accuracy', data = plot_data1, marker = 'o')\n",
    "plt.title('Comparison of Validation Accuracies')\n",
    "plt.ylim(0, 1) \n",
    "plt.grid(True)\n",
    "plt.show()"
   ]
  },
  {
   "cell_type": "markdown",
   "id": "bdd5bcef",
   "metadata": {},
   "source": [
    "Next, we are goign to evaluate our models in Guangzhou and Shanghai cities, this two models have the same quantity of data, so, they should perform similarly or even better for the classifier_b."
   ]
  },
  {
   "cell_type": "code",
   "execution_count": 19,
   "id": "61cfa4c7",
   "metadata": {},
   "outputs": [
    {
     "name": "stdout",
     "output_type": "stream",
     "text": [
      "Test Accuracy g1: 0.6420664206642066\n",
      "Test Accuracy g2: 0.9261992619926199\n",
      "Test Accuracy s1: 0.6309963099630996\n",
      "Test Accuracy s2: 0.8745387453874539\n"
     ]
    }
   ],
   "source": [
    "#Guangzhou\n",
    "test_accuracy_g1 = classifier_b.score(test_X_g, test_y_g)\n",
    "print(f'Test Accuracy g1: {test_accuracy_g1}')\n",
    "\n",
    "test_accuracy_g2 = classifier_h.score(test_X_g, test_y_g)\n",
    "print(f'Test Accuracy g2: {test_accuracy_g2}')\n",
    "\n",
    "#Shanghai\n",
    "test_accuracy_s1 = classifier_b.score(test_X_s, test_y_s)\n",
    "print(f'Test Accuracy s1: {test_accuracy_s1}')\n",
    "\n",
    "test_accuracy_s2 = classifier_h.score(test_X_s, test_y_s)\n",
    "print(f'Test Accuracy s2: {test_accuracy_s2}')"
   ]
  },
  {
   "cell_type": "markdown",
   "id": "0f1aa8ad",
   "metadata": {},
   "source": [
    "This results are even more weird, because our classifier_h have overfit it's data but it permorfs much better than our classifier_b that generalizes better. The only thing that I can think of is that this is due to the performance of K-Means that depends on the distribution and separability of clusters in the data. Another thing that can be happening is that the patterns in the test data differ significantly from the training data, and even if it overfit in classifier_h that doesn't mean that is goign to perform worst on another unseen datasets."
   ]
  },
  {
   "cell_type": "markdown",
   "id": "58723a8f",
   "metadata": {},
   "source": [
    "To improve our model, we can use the regulariztion technique that we have seen in class, this technique is used to prevent overfitting by adding a penalty to the loss function that increases with the complexity of the model. Also, we can use the cross-valiation tecnique instead of a regular validation, this one consists of splitting the training data into several subsets and training the model multiple times, each time using a different subset as the validation set. This can provide a more robust estimate of the model's performance. Finally, another approach that we can use if we have enough money is to increase the size of our data to improve our model or check how it impacts on the model itself."
   ]
  },
  {
   "cell_type": "markdown",
   "id": "be21e4ac",
   "metadata": {},
   "source": [
    "\n",
    "*Now, we are going to do a little experiment to understand our data better."
   ]
  },
  {
   "cell_type": "markdown",
   "id": "7a4fa15b",
   "metadata": {},
   "source": [
    "We are going to train a model for the rest of the cities and see if they perform better than the models before with their own model and not using the other cities model."
   ]
  },
  {
   "cell_type": "code",
   "execution_count": 27,
   "id": "82857030",
   "metadata": {},
   "outputs": [
    {
     "name": "stderr",
     "output_type": "stream",
     "text": [
      "C:\\Users\\Fran\\anaconda3\\envs\\dml\\lib\\site-packages\\sklearn\\cluster\\_kmeans.py:1412: FutureWarning: The default value of `n_init` will change from 10 to 'auto' in 1.4. Set the value of `n_init` explicitly to suppress the warning\n",
      "  super()._check_params_vs_input(X, default_n_init=10)\n",
      "C:\\Users\\Fran\\anaconda3\\envs\\dml\\lib\\site-packages\\sklearn\\cluster\\_kmeans.py:1412: FutureWarning: The default value of `n_init` will change from 10 to 'auto' in 1.4. Set the value of `n_init` explicitly to suppress the warning\n",
      "  super()._check_params_vs_input(X, default_n_init=10)\n"
     ]
    },
    {
     "name": "stdout",
     "output_type": "stream",
     "text": [
      "Training Accuracy g: 0.9395061728395062\n",
      "Training Accuracy h: 0.9\n",
      "Validation Accuracy: 0.9298892988929889\n",
      "Validation Accuracy: 0.8888888888888888\n"
     ]
    }
   ],
   "source": [
    "classifier_g = KMeansClassifier(n_clusters)\n",
    "training_accuracy_g = classifier_g.fit(train_X_g, train_y_g)\n",
    "\n",
    "classifier_s = KMeansClassifier(n_clusters)\n",
    "training_accuracy_s = classifier_s.fit(train_X_s, train_y_s)\n",
    "\n",
    "train_accuracy_g = classifier_g.score(train_X_g, train_y_g)\n",
    "print(f'Training Accuracy g: {train_accuracy_g}')\n",
    "\n",
    "train_accuracy_s= classifier_s.score(train_X_s, train_y_s)\n",
    "print(f'Training Accuracy h: {train_accuracy_s}')\n",
    "\n",
    "# Validate classifier\n",
    "validation_accuracy_g = classifier_g.score(val_X_g, val_y_g)\n",
    "print(f'Validation Accuracy: {validation_accuracy_g}')\n",
    "\n",
    "validation_accuracy_s = classifier_s.score(val_X_s, val_y_s)\n",
    "print(f'Validation Accuracy: {validation_accuracy_s}')"
   ]
  },
  {
   "cell_type": "code",
   "execution_count": 35,
   "id": "2e0677fd",
   "metadata": {},
   "outputs": [
    {
     "data": {
      "image/png": "[encoded data removed]",
      "text/plain": [
       "<Figure size 640x480 with 1 Axes>"
      ]
     },
     "metadata": {},
     "output_type": "display_data"
    }
   ],
   "source": [
    "# Create a DataFrame for plotting\n",
    "plot_data1 = pd.DataFrame({\n",
    "    'Dataset': [\"Beijing\", \"Shenyang\", \"Guangzhou\", \"Shanghai\"],\n",
    "    'Validation Accuracy': [validation_accuracy_b, validation_accuracy_h ,validation_accuracy_g, validation_accuracy_s]\n",
    "})\n",
    "\n",
    "# Plotting\n",
    "sns.lineplot(x = 'Dataset', y = 'Validation Accuracy', data = plot_data1, marker = 'o')\n",
    "plt.title('Comparison of Validation Accuracies')\n",
    "plt.ylim(0, 1) \n",
    "plt.grid(True)\n",
    "plt.show()"
   ]
  },
  {
   "cell_type": "markdown",
   "id": "686d833c",
   "metadata": {},
   "source": [
    "In this case, our training accuracy is higher than the validation accuracy and that is because our model has overfit, we can solve adding regularization, or maybe adding more data or using another validation technique like cross-validation."
   ]
  },
  {
   "cell_type": "markdown",
   "id": "c5f92180",
   "metadata": {},
   "source": [
    "We can see as well that the models for this two cities performs generally better than the other two and that can be due to their major quality in data or a more accurate shape of data for this problem."
   ]
  },
  {
   "cell_type": "code",
   "execution_count": 28,
   "id": "21fce959",
   "metadata": {},
   "outputs": [
    {
     "name": "stdout",
     "output_type": "stream",
     "text": [
      "Test Accuracy: 0.933579335793358\n",
      "Test Accuracy: 0.9188191881918819\n"
     ]
    }
   ],
   "source": [
    "test_accuracy_g = classifier_g.score(test_X_g, test_y_g)\n",
    "print(f'Test Accuracy: {test_accuracy_g}')\n",
    "\n",
    "test_accuracy_s = classifier_s.score(test_X_s, test_y_s)\n",
    "print(f'Test Accuracy: {test_accuracy_s}')"
   ]
  },
  {
   "cell_type": "markdown",
   "id": "bb41ad4a",
   "metadata": {},
   "source": [
    "We can try to check if the problem from the first example is due to having low quantity of data at traning, so we are going to put this datasets together to see if this was the problem."
   ]
  },
  {
   "cell_type": "code",
   "execution_count": 41,
   "id": "61f0e5ae",
   "metadata": {},
   "outputs": [
    {
     "name": "stdout",
     "output_type": "stream",
     "text": [
      "(2895, 10)\n",
      "(2895,)\n"
     ]
    }
   ],
   "source": [
    "df_p = pd.concat([df1,df2], ignore_index = True)\n",
    "\n",
    "# Preprocess data\n",
    "X_p = df_p.drop('PM_HIGH', axis=1)\n",
    "y_p = df_p['PM_HIGH']\n",
    "\n",
    "print(X_p.shape)\n",
    "print(y_p.shape)\n",
    "\n",
    "\n",
    "# Split data into training/validation and test sets\n",
    "train_val_X_p, test_X_p, train_val_y_p, test_y_p = train_test_split(X_p, y_p, test_size = 0.2, random_state = 42)\n",
    "\n",
    "# Further split training/validation data\n",
    "train_X_p, val_X_p, train_y_p, val_y_p = train_test_split(train_val_X_p, train_val_y_p, test_size = 0.25, random_state = 42)\n"
   ]
  },
  {
   "cell_type": "code",
   "execution_count": 42,
   "id": "7c4fc4cb",
   "metadata": {},
   "outputs": [
    {
     "name": "stderr",
     "output_type": "stream",
     "text": [
      "C:\\Users\\Fran\\anaconda3\\envs\\dml\\lib\\site-packages\\sklearn\\cluster\\_kmeans.py:1412: FutureWarning: The default value of `n_init` will change from 10 to 'auto' in 1.4. Set the value of `n_init` explicitly to suppress the warning\n",
      "  super()._check_params_vs_input(X, default_n_init=10)\n"
     ]
    },
    {
     "name": "stdout",
     "output_type": "stream",
     "text": [
      "Training Accuracy c: 0.7501439263097294\n",
      "Validation Accuracy c: 0.7616580310880829\n"
     ]
    }
   ],
   "source": [
    "# Train classifier\n",
    "classifier_p = KMeansClassifier(n_clusters)\n",
    "classifier_p.fit(train_X_p, train_y_p)\n",
    "\n",
    "train_accuracy_p = classifier_p.score(train_X_p, train_y_p)\n",
    "print(f'Training Accuracy p: {train_accuracy_p}')\n",
    "# Validate classifier\n",
    "validation_accuracy_p = classifier_p.score(val_X_p, val_y_p)\n",
    "print(f'Validation Accuracy p: {validation_accuracy_p}')"
   ]
  },
  {
   "cell_type": "code",
   "execution_count": 43,
   "id": "ebaab223",
   "metadata": {},
   "outputs": [
    {
     "name": "stdout",
     "output_type": "stream",
     "text": [
      "Test Accuracy p: 0.7271157167530224\n"
     ]
    }
   ],
   "source": [
    "# Test classifier\n",
    "test_accuracy_p = classifier_p.score(test_X_p, test_y_p)\n",
    "print(f'Test Accuracy p: {test_accuracy_p}')"
   ]
  },
  {
   "cell_type": "markdown",
   "id": "930d8af8",
   "metadata": {},
   "source": [
    "With that results we can confirm that the problem of the Beijing model is not having a low quantity of data."
   ]
  },
  {
   "cell_type": "markdown",
   "id": "af2f3e29",
   "metadata": {},
   "source": [
    "Another test that can be done is that this two last cities were both similar, so we can concatenate their datasets to get more data and try to aim to a higher accuracy."
   ]
  },
  {
   "cell_type": "code",
   "execution_count": 30,
   "id": "79a18dd2",
   "metadata": {},
   "outputs": [
    {
     "name": "stdout",
     "output_type": "stream",
     "text": [
      "(2703, 10)\n",
      "(2703,)\n"
     ]
    }
   ],
   "source": [
    "df_c = pd.concat([df3,df4], ignore_index = True)\n",
    "\n",
    "# Preprocess data\n",
    "X_c = df_c.drop('PM_HIGH', axis=1)\n",
    "y_c = df_c['PM_HIGH']\n",
    "\n",
    "print(X_c.shape)\n",
    "print(y_c.shape)\n",
    "\n",
    "\n",
    "# Split data into training/validation and test sets\n",
    "train_val_X_c, test_X_c, train_val_y_c, test_y_c = train_test_split(X_c, y_c, test_size = 0.2, random_state = 42)\n",
    "\n",
    "# Further split training/validation data\n",
    "train_X_c, val_X_c, train_y_c, val_y_c = train_test_split(train_val_X_c, train_val_y_c, test_size = 0.25, random_state = 42)\n"
   ]
  },
  {
   "cell_type": "code",
   "execution_count": 32,
   "id": "be049e43",
   "metadata": {},
   "outputs": [
    {
     "name": "stderr",
     "output_type": "stream",
     "text": [
      "C:\\Users\\Fran\\anaconda3\\envs\\dml\\lib\\site-packages\\sklearn\\cluster\\_kmeans.py:1412: FutureWarning: The default value of `n_init` will change from 10 to 'auto' in 1.4. Set the value of `n_init` explicitly to suppress the warning\n",
      "  super()._check_params_vs_input(X, default_n_init=10)\n"
     ]
    },
    {
     "name": "stdout",
     "output_type": "stream",
     "text": [
      "Training Accuracy c: 0.9099321406539174\n",
      "Validation Accuracy c: 0.9371534195933456\n"
     ]
    }
   ],
   "source": [
    "# Train classifier\n",
    "classifier_c = KMeansClassifier(n_clusters)\n",
    "classifier_c.fit(train_X_c, train_y_c)\n",
    "\n",
    "train_accuracy_c = classifier_c.score(train_X_c, train_y_c)\n",
    "print(f'Training Accuracy c: {train_accuracy_c}')\n",
    "# Validate classifier\n",
    "validation_accuracy_c = classifier_c.score(val_X_c, val_y_c)\n",
    "print(f'Validation Accuracy c: {validation_accuracy_c}')"
   ]
  },
  {
   "cell_type": "code",
   "execution_count": 45,
   "id": "f5ea8395",
   "metadata": {},
   "outputs": [
    {
     "data": {
      "image/png": "[encoded data removed]",
      "text/plain": [
       "<Figure size 640x480 with 1 Axes>"
      ]
     },
     "metadata": {},
     "output_type": "display_data"
    }
   ],
   "source": [
    "# Create a DataFrame for plotting\n",
    "plot_data1 = pd.DataFrame({\n",
    "    'Dataset': [\"Beijing & Shenyang\", \"Guangzhou & Shanghai\"],\n",
    "    'Validation Accuracy': [validation_accuracy_p, validation_accuracy_c]\n",
    "})\n",
    "\n",
    "# Plotting\n",
    "sns.lineplot(x = 'Dataset', y = 'Validation Accuracy', data = plot_data1, marker = 'o')\n",
    "plt.title('Comparison of Validation Accuracies')\n",
    "plt.ylim(0, 1) \n",
    "plt.grid(True)\n",
    "plt.show()"
   ]
  },
  {
   "cell_type": "code",
   "execution_count": 46,
   "id": "2718b485",
   "metadata": {},
   "outputs": [
    {
     "name": "stdout",
     "output_type": "stream",
     "text": [
      "Test Accuracy c: 0.9279112754158965\n"
     ]
    }
   ],
   "source": [
    "# Test classifier\n",
    "test_accuracy_c = classifier_c.score(test_X_c, test_y_c)\n",
    "print(f'Test Accuracy c: {test_accuracy_c}')"
   ]
  },
  {
   "cell_type": "markdown",
   "id": "843ad0c3",
   "metadata": {},
   "source": [
    "As we can see, we get the same situation as in the first example that we have seen above.\n"
   ]
  },
  {
   "cell_type": "code",
   "execution_count": null,
   "id": "78e73010",
   "metadata": {},
   "outputs": [],
   "source": []
  }
 ],
 "metadata": {
  "kernelspec": {
   "display_name": "Python 3 (ipykernel)",
   "language": "python",
   "name": "python3"
  },
  "language_info": {
   "codemirror_mode": {
    "name": "ipython",
    "version": 3
   },
   "file_extension": ".py",
   "mimetype": "text/x-python",
   "name": "python",
   "nbconvert_exporter": "python",
   "pygments_lexer": "ipython3",
   "version": "3.9.18"
  }
 },
 "nbformat": 4,
 "nbformat_minor": 5
}
