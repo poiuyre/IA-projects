{
 "cells": [
  {
   "cell_type": "code",
   "execution_count": 1,
   "id": "580daf2c-2ff0-4d8c-982a-ed3fb4848a05",
   "metadata": {},
   "outputs": [
    {
     "name": "stderr",
     "output_type": "stream",
     "text": [
      "C:\\Users\\Fran\\anaconda3\\envs\\cuda_env\\lib\\site-packages\\torchvision\\models\\_utils.py:208: UserWarning: The parameter 'pretrained' is deprecated since 0.13 and may be removed in the future, please use 'weights' instead.\n",
      "  warnings.warn(\n",
      "C:\\Users\\Fran\\anaconda3\\envs\\cuda_env\\lib\\site-packages\\torchvision\\models\\_utils.py:223: UserWarning: Arguments other than a weight enum or `None` for 'weights' are deprecated since 0.13 and may be removed in the future. The current behavior is equivalent to passing `weights=Inception_V3_Weights.IMAGENET1K_V1`. You can also use `weights=Inception_V3_Weights.DEFAULT` to get the most up-to-date weights.\n",
      "  warnings.warn(msg)\n"
     ]
    }
   ],
   "source": [
    "import torch\n",
    "import torch.nn as nn\n",
    "import torch.optim as optim\n",
    "from torchvision.datasets import ImageFolder\n",
    "from torch.utils.data import DataLoader\n",
    "import torchvision.transforms as transforms\n",
    "import torchvision.models as models\n",
    "from torchvision.models import inception_v3, Inception3\n",
    "from torchvision.models import inception_v3, Inception_V3_Weights\n",
    "\n",
    "# Resize to fit input of CNN\n",
    "transform = transforms.Compose([\n",
    "    transforms.Resize((299, 299)),\n",
    "    transforms.ToTensor(),\n",
    "])\n",
    "\n",
    "# Load data and apply resize\n",
    "train_dataset = ImageFolder('train', transform=transform)\n",
    "train_loader = DataLoader(train_dataset, batch_size=32, shuffle=True)\n",
    "\n",
    "# Import Inception model\n",
    "inception = inception_v3(pretrained = True)\n",
    "\n",
    "# Freeze the parameters in the pre-trained layers\n",
    "for param in inception.parameters():\n",
    "    param.requires_grad = False\n",
    "\n",
    "# Modify the last fully connected layer to fit the number of classes in your task\n",
    "num_classes = 2  # Melanoma and melanocytic nevus\n",
    "inception.fc = nn.Linear(inception.fc.in_features, num_classes)\n",
    "\n",
    "# Define loss function and optimizer\n",
    "criterion = nn.BCEWithLogitsLoss()\n",
    "\n",
    "optimizer = optim.Adam(inception.parameters(), lr=0.001)\n"
   ]
  },
  {
   "cell_type": "code",
   "execution_count": 2,
   "id": "6cd0136b-8e97-4af0-9da0-7b00ba9871f5",
   "metadata": {},
   "outputs": [
    {
     "name": "stdout",
     "output_type": "stream",
     "text": [
      "Epoch [1/10], Loss: 0.4918, Accuracy: 0.7694\n",
      "Epoch [2/10], Loss: 0.4222, Accuracy: 0.8005\n",
      "Epoch [3/10], Loss: 0.4112, Accuracy: 0.8091\n",
      "Epoch [4/10], Loss: 0.4100, Accuracy: 0.8126\n",
      "Epoch [5/10], Loss: 0.3973, Accuracy: 0.8129\n",
      "Epoch [6/10], Loss: 0.3932, Accuracy: 0.8238\n",
      "Epoch [7/10], Loss: 0.3881, Accuracy: 0.8224\n",
      "Epoch [8/10], Loss: 0.3998, Accuracy: 0.8129\n",
      "Epoch [9/10], Loss: 0.3966, Accuracy: 0.8161\n",
      "Epoch [10/10], Loss: 0.3902, Accuracy: 0.8235\n",
      "Training finished.\n"
     ]
    }
   ],
   "source": [
    "import torch.nn.functional as F\n",
    "# Define number of epochs\n",
    "num_epochs = 10\n",
    "\n",
    "# Move model to GPU if available\n",
    "device = torch.device(\"cuda\" if torch.cuda.is_available() else \"cpu\")\n",
    "inception = inception.to(device)\n",
    "\n",
    "\n",
    "for epoch in range(num_epochs):\n",
    "    running_loss = 0.0\n",
    "    correct = 0\n",
    "    total = 0\n",
    "    \n",
    "    for inputs, labels in train_loader:\n",
    "        inputs = inputs.to(device)\n",
    "        labels = labels.to(device)\n",
    "        \n",
    "        # One-hot encode the target labels\n",
    "        target = F.one_hot(labels, num_classes=2).float()  # Assuming 2 classes\n",
    "        \n",
    "        # Zero the parameter gradients\n",
    "        optimizer.zero_grad()\n",
    "        \n",
    "        # Forward pass\n",
    "        outputs, _ = inception(inputs)  # Use the main output of the Inception model\n",
    "        loss = criterion(outputs, target)  # Use one-hot encoded target\n",
    "        \n",
    "        # Backward pass and optimize\n",
    "        loss.backward()\n",
    "        optimizer.step()\n",
    "        \n",
    "        running_loss += loss.item() * inputs.size(0)\n",
    "        \n",
    "        # Calculate accuracy\n",
    "        predicted = torch.argmax(torch.sigmoid(outputs), dim=1)  # Get the index of the max logit as prediction\n",
    "        total += labels.size(0)\n",
    "        correct += (predicted == labels).sum().item()  # Compare predicted indices with true labels\n",
    "    \n",
    "    epoch_loss = running_loss / len(train_dataset)\n",
    "    epoch_accuracy = correct / total\n",
    "    print(f\"Epoch [{epoch+1}/{num_epochs}], Loss: {epoch_loss:.4f}, Accuracy: {epoch_accuracy:.4f}\")\n",
    "\n",
    "print(\"Training finished.\")\n",
    "\n",
    "\n",
    "\n"
   ]
  },
  {
   "cell_type": "code",
   "execution_count": 3,
   "id": "cfc09711-b6e8-49b4-8f24-9e005d62424b",
   "metadata": {},
   "outputs": [
    {
     "name": "stdout",
     "output_type": "stream",
     "text": [
      "Validation Loss: 0.3536, Validation Accuracy: 0.8371\n"
     ]
    }
   ],
   "source": [
    "# Assuming similar data transformations for validation set\n",
    "val_dataset = ImageFolder('val', transform=transform)\n",
    "val_loader = DataLoader(val_dataset, batch_size=32, shuffle=False)  # No need to shuffle for validation\n",
    "\n",
    "\n",
    "# Evaluation mode\n",
    "inception.eval()\n",
    "\n",
    "\n",
    "# Iterate over validation data\n",
    "# Variables to track accuracy and loss\n",
    "val_correct = 0\n",
    "val_total = 0\n",
    "val_running_loss = 0.0\n",
    "\n",
    "# Iterate over validation data\n",
    "for inputs, labels in val_loader:\n",
    "    inputs = inputs.to(device)\n",
    "    labels = labels.to(device)\n",
    "    \n",
    "    # One-hot encode the target labels\n",
    "    target = F.one_hot(labels, num_classes=num_classes).float()\n",
    "    \n",
    "    # Forward pass\n",
    "    with torch.no_grad():\n",
    "        outputs = inception(inputs)  # Use the main output of the Inception model\n",
    "        loss = criterion(outputs, target)  # Use one-hot encoded target\n",
    "    \n",
    "    # Calculate loss\n",
    "    val_running_loss += loss.item() * inputs.size(0)\n",
    "    \n",
    "    # Calculate accuracy\n",
    "    predicted = (torch.sigmoid(outputs) > 0.5).float()  # Convert probabilities to binary predictions\n",
    "    val_total += labels.size(0)\n",
    "    val_correct += (predicted == target).all(dim=1).sum().item()  # Compare with one-hot encoded target\n",
    "\n",
    "# Calculate validation loss and accuracy\n",
    "val_loss = val_running_loss / len(val_dataset)\n",
    "val_accuracy = val_correct / val_total\n",
    "\n",
    "print(f\"Validation Loss: {val_loss:.4f}, Validation Accuracy: {val_accuracy:.4f}\")\n",
    "\n"
   ]
  },
  {
   "cell_type": "code",
   "execution_count": null,
   "id": "d29a4f3a-9e7b-4222-90a3-92633209bb9e",
   "metadata": {},
   "outputs": [],
   "source": []
  }
 ],
 "metadata": {
  "kernelspec": {
   "display_name": "Python 3 (ipykernel)",
   "language": "python",
   "name": "python3"
  },
  "language_info": {
   "codemirror_mode": {
    "name": "ipython",
    "version": 3
   },
   "file_extension": ".py",
   "mimetype": "text/x-python",
   "name": "python",
   "nbconvert_exporter": "python",
   "pygments_lexer": "ipython3",
   "version": "3.8.18"
  }
 },
 "nbformat": 4,
 "nbformat_minor": 5
}
