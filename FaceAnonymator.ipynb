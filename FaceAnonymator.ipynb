{
 "cells": [
  {
   "cell_type": "code",
   "execution_count": 1,
   "id": "794529cf",
   "metadata": {},
   "outputs": [],
   "source": [
    "import cv2\n",
    "import numpy as np\n",
    "import mediapipe as mp\n",
    "import os\n",
    "import argparse\n",
    "import sys"
   ]
  },
  {
   "cell_type": "code",
   "execution_count": 2,
   "id": "4482ffc8",
   "metadata": {},
   "outputs": [],
   "source": [
    "if '-f' in sys.argv:\n",
    "    sys.argv.remove('-f')\n",
    "    sys.argv.remove('C:\\\\Users\\\\Fran\\\\AppData\\\\Roaming\\\\jupyter\\\\runtime\\\\kernel-f7be5c68-6126-4bee-ba62-4de6c32df41d.json')\n",
    "\n",
    "\n",
    "# Create ArgumentParser object\n",
    "args = argparse.ArgumentParser(allow_abbrev=False)\n",
    "\n",
    "# Add arguments\n",
    "args.add_argument(\"--mode\", default='webcam')\n",
    "args.add_argument(\"--filePath\", default=None)\n",
    "\n",
    "# Parse arguments\n",
    "args = args.parse_args()"
   ]
  },
  {
   "cell_type": "code",
   "execution_count": 3,
   "id": "91015c56",
   "metadata": {},
   "outputs": [],
   "source": [
    "#img_path = 'data/img.png'\n",
    "output_dir = 'data/'\n",
    "#img = cv2.imread(img_path)\n",
    "#cv2.imshow(img)\n",
    "#H, W ,_ = img.shape"
   ]
  },
  {
   "cell_type": "code",
   "execution_count": 4,
   "id": "146c3f15",
   "metadata": {},
   "outputs": [],
   "source": [
    "def process_img(img, face_detection):\n",
    "    H, W ,_ = img.shape\n",
    "    img_rgb = cv2.cvtColor(img, cv2.COLOR_BGR2RGB)\n",
    "    out = face_detection.process(img)\n",
    "    \n",
    "    if out.detections is not None:\n",
    "        for detection in out.detections:  # Note the corrected attribute name 'detections'\n",
    "            location_data = detection.location_data\n",
    "            bbox = location_data.relative_bounding_box\n",
    "\n",
    "            x1, y1, w, h = bbox.xmin, bbox.ymin, bbox.width, bbox.height\n",
    "            x1 = int(x1*W)\n",
    "            y1 = int(y1*H)\n",
    "            w = int(w*W)\n",
    "            h = int(h*H)\n",
    "            \n",
    "            #cv2.rectangle(img, (x1,y1), (x1+w, y1+h), (0,255,0), 10)\n",
    "            \n",
    "            #blur the face only\n",
    "            img[y1:y1 + h, x1:x1 + w, :] = cv2.blur(img[y1:y1 + h, x1:x1 + w, :], (25,25))\n",
    "    return img"
   ]
  },
  {
   "cell_type": "code",
   "execution_count": 5,
   "id": "97f265ca",
   "metadata": {},
   "outputs": [],
   "source": [
    "mp_face_detection = mp.solutions.face_detection\n",
    "#model selection 0 to near objects and 1 to far\n",
    "with mp_face_detection.FaceDetection(model_selection=1, min_detection_confidence = 0.5) as face_detection:\n",
    "   \n",
    "\n",
    "    if args.mode in [\"image\"]:\n",
    "        img = cv2.imread(args.filePath)\n",
    "        img = process_img(img, face_detection)\n",
    "        cv2.imwrite(os.path.join(output_dir, 'ou42133.png'), img)\n",
    "    elif args.mode in [\"video\"]:\n",
    "        cap = cv2.VideoCapture(args.filePath)\n",
    "        ret, frame = cap.read()\n",
    "        output_video = cv2.VideoWriter(os.path.join(output_dir, 'videooo2.mp4'),\n",
    "                                      cv2.VideoWriter_fourcc(*'MP4V'),\n",
    "                                      25, \n",
    "                                      (frame.shape[1], frame.shape[0]))\n",
    "        while ret:\n",
    "            frame = process_img(frame, face_detection)\n",
    "            output_video.write(frame)\n",
    "            ret, frame = cap.read()\n",
    "        cap.release()\n",
    "        output_video.release()\n",
    "    elif args.mode in [\"webcam\"]:\n",
    "        cap = cv2.VideoCapture(0)\n",
    "        ret, frame = cap.read()\n",
    "        while ret:\n",
    "            try:\n",
    "                frame = process_img(frame, face_detection)\n",
    "                cv2.imshow('frame', frame)\n",
    "                if cv2.waitKey(25) & 0xFF == ord('q'):\n",
    "                    break\n",
    "            except Exception as e:\n",
    "                print(\"No face detected in this frame.\")\n",
    "                # Handle the case when no face is detected\n",
    "                # For example, you can skip this frame or perform alternative processing\n",
    "            ret, frame = cap.read()\n",
    "        cap.release()\n",
    "        cv2.destroyAllWindows()\n",
    "\n",
    "    #print(out.detections)"
   ]
  },
  {
   "cell_type": "code",
   "execution_count": null,
   "id": "1275214d",
   "metadata": {},
   "outputs": [],
   "source": []
  }
 ],
 "metadata": {
  "kernelspec": {
   "display_name": "Python 3 (ipykernel)",
   "language": "python",
   "name": "python3"
  },
  "language_info": {
   "codemirror_mode": {
    "name": "ipython",
    "version": 3
   },
   "file_extension": ".py",
   "mimetype": "text/x-python",
   "name": "python",
   "nbconvert_exporter": "python",
   "pygments_lexer": "ipython3",
   "version": "3.9.18"
  }
 },
 "nbformat": 4,
 "nbformat_minor": 5
}
