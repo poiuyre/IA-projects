{
 "cells": [
  {
   "cell_type": "code",
   "execution_count": 6,
   "id": "3bd30582",
   "metadata": {},
   "outputs": [],
   "source": [
    "import cv2\n",
    "import os\n",
    "import numpy as np\n",
    "from PIL import Image"
   ]
  },
  {
   "cell_type": "code",
   "execution_count": 7,
   "id": "68e36a6c",
   "metadata": {},
   "outputs": [],
   "source": [
    "def get_limits(color):\n",
    "    # Convert color to HSV\n",
    "    c = np.uint8([[color]])\n",
    "    hsvC = cv2.cvtColor(c, cv2.COLOR_BGR2HSV)\n",
    "    hue = hsvC[0][0][0]\n",
    "\n",
    "    # Define a range around the hue value\n",
    "    hue_range = 10  # You can adjust this range as needed\n",
    "    lower_hue = hue - hue_range if hue > hue_range else 0\n",
    "    upper_hue = hue + hue_range if hue < (180 - hue_range) else 180\n",
    "\n",
    "    # Define fixed values for saturation and value\n",
    "    lower_limit = np.array([lower_hue, 100, 100], dtype=np.uint8)\n",
    "    upper_limit = np.array([upper_hue, 255, 255], dtype=np.uint8)\n",
    "\n",
    "    return lower_limit, upper_limit"
   ]
  },
  {
   "cell_type": "code",
   "execution_count": 8,
   "id": "ff197ab8",
   "metadata": {},
   "outputs": [],
   "source": [
    "cap = cv2.VideoCapture(0)\n",
    "red = [255, 0, 0]"
   ]
  },
  {
   "cell_type": "code",
   "execution_count": 9,
   "id": "77ed3cf9",
   "metadata": {},
   "outputs": [],
   "source": [
    "while True:\n",
    "    ret, frame = cap.read()\n",
    "    hsv_img = cv2.cvtColor(frame, cv2.COLOR_BGR2HSV)\n",
    "    lowerLimit, upperLimit = get_limits(color = red)   \n",
    "    mask = cv2.inRange(hsv_img, lowerLimit, upperLimit)\n",
    "    \n",
    "    maskC = Image.fromarray(mask)\n",
    "    bbox = maskC.getbbox()\n",
    "    #print(bbox)\n",
    "    \n",
    "    if bbox is not None:\n",
    "        x1, y1, x2, y2 = bbox\n",
    "        \n",
    "        cv2.rectangle(frame, (x1,y1), (x2,y2), (0,255,0), 5)\n",
    "    cv2.imshow('frame', frame) \n",
    "    if cv2.waitKey(1) & 0xFF == ord('q'):\n",
    "        break"
   ]
  },
  {
   "cell_type": "code",
   "execution_count": 10,
   "id": "fc4b5582",
   "metadata": {},
   "outputs": [],
   "source": [
    "cap.release()\n",
    "cv2.destroyAllWindows()"
   ]
  },
  {
   "cell_type": "code",
   "execution_count": null,
   "id": "9e85031d",
   "metadata": {},
   "outputs": [],
   "source": []
  },
  {
   "cell_type": "code",
   "execution_count": null,
   "id": "50ecfb79",
   "metadata": {},
   "outputs": [],
   "source": []
  }
 ],
 "metadata": {
  "kernelspec": {
   "display_name": "Python 3 (ipykernel)",
   "language": "python",
   "name": "python3"
  },
  "language_info": {
   "codemirror_mode": {
    "name": "ipython",
    "version": 3
   },
   "file_extension": ".py",
   "mimetype": "text/x-python",
   "name": "python",
   "nbconvert_exporter": "python",
   "pygments_lexer": "ipython3",
   "version": "3.9.18"
  }
 },
 "nbformat": 4,
 "nbformat_minor": 5
}
