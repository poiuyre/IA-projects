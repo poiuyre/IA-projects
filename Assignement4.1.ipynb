{
 "cells": [
  {
   "cell_type": "markdown",
   "id": "9d0e45d3",
   "metadata": {},
   "source": [
    "Assignment 4: Diagnostic Systems\n",
    "Group 13\n",
    "Module 4\n",
    "Francisco Castellano Rodriguez - 020425T136- fracas@chalmers.se\n",
    "Ivan Frolyak Ostrovskyy - 000706T617 - frolyak@chalmers.se\n",
    "Program: Exchange Student (Erasmus)\n",
    "Time spent: 10h each.\n",
    "We hereby declare that we have both actively participated in solving every exercise. All\n",
    "solutions are entirely our own work, without having taken part in other solutions."
   ]
  },
  {
   "cell_type": "markdown",
   "id": "04c07083",
   "metadata": {},
   "source": [
    "1. READING AND REFLECTION\n",
    "\n",
    "These papers show a wide range of machine learning applications, from theoretical considerations of model interpretability to practical applications in medical diagnostics, emphasizing the importance of clear interpretability criteria and machine learning's potential to revolutionize fields such as healthcare.\n",
    "\n",
    "The paper \"The Mythos of Model Interpretability\" goes into the complexities of machine learning model interpretability, emphasizing the lack of a uniform definition and defining interpretability as transparency or post-hoc explanations. It compares the interpretability of linear models to deep neural networks and warns against potentially misleading post-hoc interpretations, highlighting the need of balancing interpretability with predictive capability.\n",
    "\n",
    "Moreover, a statement of this paper has given us an idea for the third part of the implementation and for our own classifier we are going to use the model from this cite:\n",
    "‘ According to its own technical report, FICO trains credit models using logistic regression, specifically citing interpretability as a motivation for the choice of model.’.\n",
    "\n",
    "Finally, \"Machine Learning Techniques to Diagnose Breast Cancer from Image-Processed Nuclear Features of Fine Needle Aspirates\" looks into how machine learning and digital image analysis may be used to improve breast cancer diagnosis accuracy. The study shows how this technique has the potential to reach high diagnostic precision in breast cancer diagnostics, with a system achieving 100% accuracy in a test set of 54 samples.\n"
   ]
  },
  {
   "cell_type": "markdown",
   "id": "9509af22",
   "metadata": {},
   "source": [
    "2. IMPLEMENTATION"
   ]
  },
  {
   "cell_type": "markdown",
   "id": "2527b07c",
   "metadata": {},
   "source": [
    "The metrics used for evaluating our models was accuracy for both validation and test set."
   ]
  },
  {
   "cell_type": "markdown",
   "id": "abe19555",
   "metadata": {},
   "source": [
    "First, we are going to upload the dataset that we have given into a dataframe, then we can start working with it."
   ]
  },
  {
   "cell_type": "code",
   "execution_count": 1,
   "id": "51046e95",
   "metadata": {},
   "outputs": [],
   "source": [
    "import pickle as pkl\n",
    "import pandas as pd\n",
    "with open(\"wdbc.pkl\", \"rb\") as f:\n",
    "    object = pkl.load(f)\n",
    "    \n",
    "df = pd.DataFrame(object)\n",
    "df.to_csv(r'file.csv')"
   ]
  },
  {
   "cell_type": "markdown",
   "id": "0eb08029",
   "metadata": {},
   "source": [
    "Then, we take a look a the data, it's length and its features."
   ]
  },
  {
   "cell_type": "code",
   "execution_count": 2,
   "id": "186d23d5",
   "metadata": {},
   "outputs": [
    {
     "data": {
      "text/html": [
       "<div>\n",
       "<style scoped>\n",
       "    .dataframe tbody tr th:only-of-type {\n",
       "        vertical-align: middle;\n",
       "    }\n",
       "\n",
       "    .dataframe tbody tr th {\n",
       "        vertical-align: top;\n",
       "    }\n",
       "\n",
       "    .dataframe thead th {\n",
       "        text-align: right;\n",
       "    }\n",
       "</style>\n",
       "<table border=\"1\" class=\"dataframe\">\n",
       "  <thead>\n",
       "    <tr style=\"text-align: right;\">\n",
       "      <th></th>\n",
       "      <th>id</th>\n",
       "      <th>malignant</th>\n",
       "      <th>radius_0</th>\n",
       "      <th>texture_0</th>\n",
       "      <th>perimeter_0</th>\n",
       "      <th>area_0</th>\n",
       "      <th>smoothness_0</th>\n",
       "      <th>compactness_0</th>\n",
       "      <th>concavity_0</th>\n",
       "      <th>concave points_0</th>\n",
       "      <th>...</th>\n",
       "      <th>radius_2</th>\n",
       "      <th>texture_2</th>\n",
       "      <th>perimeter_2</th>\n",
       "      <th>area_2</th>\n",
       "      <th>smoothness_2</th>\n",
       "      <th>compactness_2</th>\n",
       "      <th>concavity_2</th>\n",
       "      <th>concave points_2</th>\n",
       "      <th>symmetry_2</th>\n",
       "      <th>fractal dimension_2</th>\n",
       "    </tr>\n",
       "  </thead>\n",
       "  <tbody>\n",
       "    <tr>\n",
       "      <th>0</th>\n",
       "      <td>842302</td>\n",
       "      <td>1</td>\n",
       "      <td>17.99</td>\n",
       "      <td>10.38</td>\n",
       "      <td>122.80</td>\n",
       "      <td>1001.0</td>\n",
       "      <td>0.11840</td>\n",
       "      <td>0.27760</td>\n",
       "      <td>0.3001</td>\n",
       "      <td>0.14710</td>\n",
       "      <td>...</td>\n",
       "      <td>25.38</td>\n",
       "      <td>17.33</td>\n",
       "      <td>184.60</td>\n",
       "      <td>2019.0</td>\n",
       "      <td>0.1622</td>\n",
       "      <td>0.6656</td>\n",
       "      <td>0.7119</td>\n",
       "      <td>0.2654</td>\n",
       "      <td>0.4601</td>\n",
       "      <td>0.11890</td>\n",
       "    </tr>\n",
       "    <tr>\n",
       "      <th>1</th>\n",
       "      <td>842517</td>\n",
       "      <td>1</td>\n",
       "      <td>20.57</td>\n",
       "      <td>17.77</td>\n",
       "      <td>132.90</td>\n",
       "      <td>1326.0</td>\n",
       "      <td>0.08474</td>\n",
       "      <td>0.07864</td>\n",
       "      <td>0.0869</td>\n",
       "      <td>0.07017</td>\n",
       "      <td>...</td>\n",
       "      <td>24.99</td>\n",
       "      <td>23.41</td>\n",
       "      <td>158.80</td>\n",
       "      <td>1956.0</td>\n",
       "      <td>0.1238</td>\n",
       "      <td>0.1866</td>\n",
       "      <td>0.2416</td>\n",
       "      <td>0.1860</td>\n",
       "      <td>0.2750</td>\n",
       "      <td>0.08902</td>\n",
       "    </tr>\n",
       "    <tr>\n",
       "      <th>2</th>\n",
       "      <td>84300903</td>\n",
       "      <td>1</td>\n",
       "      <td>19.69</td>\n",
       "      <td>21.25</td>\n",
       "      <td>130.00</td>\n",
       "      <td>1203.0</td>\n",
       "      <td>0.10960</td>\n",
       "      <td>0.15990</td>\n",
       "      <td>0.1974</td>\n",
       "      <td>0.12790</td>\n",
       "      <td>...</td>\n",
       "      <td>23.57</td>\n",
       "      <td>25.53</td>\n",
       "      <td>152.50</td>\n",
       "      <td>1709.0</td>\n",
       "      <td>0.1444</td>\n",
       "      <td>0.4245</td>\n",
       "      <td>0.4504</td>\n",
       "      <td>0.2430</td>\n",
       "      <td>0.3613</td>\n",
       "      <td>0.08758</td>\n",
       "    </tr>\n",
       "    <tr>\n",
       "      <th>3</th>\n",
       "      <td>84348301</td>\n",
       "      <td>1</td>\n",
       "      <td>11.42</td>\n",
       "      <td>20.38</td>\n",
       "      <td>77.58</td>\n",
       "      <td>386.1</td>\n",
       "      <td>0.14250</td>\n",
       "      <td>0.28390</td>\n",
       "      <td>0.2414</td>\n",
       "      <td>0.10520</td>\n",
       "      <td>...</td>\n",
       "      <td>14.91</td>\n",
       "      <td>26.50</td>\n",
       "      <td>98.87</td>\n",
       "      <td>567.7</td>\n",
       "      <td>0.2098</td>\n",
       "      <td>0.8663</td>\n",
       "      <td>0.6869</td>\n",
       "      <td>0.2575</td>\n",
       "      <td>0.6638</td>\n",
       "      <td>0.17300</td>\n",
       "    </tr>\n",
       "    <tr>\n",
       "      <th>4</th>\n",
       "      <td>84358402</td>\n",
       "      <td>1</td>\n",
       "      <td>20.29</td>\n",
       "      <td>14.34</td>\n",
       "      <td>135.10</td>\n",
       "      <td>1297.0</td>\n",
       "      <td>0.10030</td>\n",
       "      <td>0.13280</td>\n",
       "      <td>0.1980</td>\n",
       "      <td>0.10430</td>\n",
       "      <td>...</td>\n",
       "      <td>22.54</td>\n",
       "      <td>16.67</td>\n",
       "      <td>152.20</td>\n",
       "      <td>1575.0</td>\n",
       "      <td>0.1374</td>\n",
       "      <td>0.2050</td>\n",
       "      <td>0.4000</td>\n",
       "      <td>0.1625</td>\n",
       "      <td>0.2364</td>\n",
       "      <td>0.07678</td>\n",
       "    </tr>\n",
       "  </tbody>\n",
       "</table>\n",
       "<p>5 rows × 32 columns</p>\n",
       "</div>"
      ],
      "text/plain": [
       "         id  malignant  radius_0  texture_0  perimeter_0  area_0  \\\n",
       "0    842302          1     17.99      10.38       122.80  1001.0   \n",
       "1    842517          1     20.57      17.77       132.90  1326.0   \n",
       "2  84300903          1     19.69      21.25       130.00  1203.0   \n",
       "3  84348301          1     11.42      20.38        77.58   386.1   \n",
       "4  84358402          1     20.29      14.34       135.10  1297.0   \n",
       "\n",
       "   smoothness_0  compactness_0  concavity_0  concave points_0  ...  radius_2  \\\n",
       "0       0.11840        0.27760       0.3001           0.14710  ...     25.38   \n",
       "1       0.08474        0.07864       0.0869           0.07017  ...     24.99   \n",
       "2       0.10960        0.15990       0.1974           0.12790  ...     23.57   \n",
       "3       0.14250        0.28390       0.2414           0.10520  ...     14.91   \n",
       "4       0.10030        0.13280       0.1980           0.10430  ...     22.54   \n",
       "\n",
       "   texture_2  perimeter_2  area_2  smoothness_2  compactness_2  concavity_2  \\\n",
       "0      17.33       184.60  2019.0        0.1622         0.6656       0.7119   \n",
       "1      23.41       158.80  1956.0        0.1238         0.1866       0.2416   \n",
       "2      25.53       152.50  1709.0        0.1444         0.4245       0.4504   \n",
       "3      26.50        98.87   567.7        0.2098         0.8663       0.6869   \n",
       "4      16.67       152.20  1575.0        0.1374         0.2050       0.4000   \n",
       "\n",
       "   concave points_2  symmetry_2  fractal dimension_2  \n",
       "0            0.2654      0.4601              0.11890  \n",
       "1            0.1860      0.2750              0.08902  \n",
       "2            0.2430      0.3613              0.08758  \n",
       "3            0.2575      0.6638              0.17300  \n",
       "4            0.1625      0.2364              0.07678  \n",
       "\n",
       "[5 rows x 32 columns]"
      ]
     },
     "execution_count": 2,
     "metadata": {},
     "output_type": "execute_result"
    }
   ],
   "source": [
    "df.head()"
   ]
  },
  {
   "cell_type": "code",
   "execution_count": 3,
   "id": "edfb04c1",
   "metadata": {},
   "outputs": [
    {
     "data": {
      "text/plain": [
       "(569, 32)"
      ]
     },
     "execution_count": 3,
     "metadata": {},
     "output_type": "execute_result"
    }
   ],
   "source": [
    "df.shape"
   ]
  },
  {
   "cell_type": "code",
   "execution_count": 4,
   "id": "486f2c43",
   "metadata": {},
   "outputs": [
    {
     "name": "stdout",
     "output_type": "stream",
     "text": [
      "Index(['id', 'malignant', 'radius_0', 'texture_0', 'perimeter_0', 'area_0',\n",
      "       'smoothness_0', 'compactness_0', 'concavity_0', 'concave points_0',\n",
      "       'symmetry_0', 'fractal dimension_0', 'radius_1', 'texture_1',\n",
      "       'perimeter_1', 'area_1', 'smoothness_1', 'compactness_1', 'concavity_1',\n",
      "       'concave points_1', 'symmetry_1', 'fractal dimension_1', 'radius_2',\n",
      "       'texture_2', 'perimeter_2', 'area_2', 'smoothness_2', 'compactness_2',\n",
      "       'concavity_2', 'concave points_2', 'symmetry_2', 'fractal dimension_2'],\n",
      "      dtype='object')\n"
     ]
    }
   ],
   "source": [
    "print(df.columns)"
   ]
  },
  {
   "cell_type": "markdown",
   "id": "6a5aecfd",
   "metadata": {},
   "source": [
    "**Classifier - rule-based**\n",
    "\n",
    "Firstly we are going to import all the necessary libraries which are essential for handling the dataset and performing calculations. Basically for data manipulation. We also are going to be using M.L and Visualization Libraries to get this part of the assignment done.\n",
    "\n",
    "With that said, in the next code-frame we are going to perform some basic pre-processing and splitting of the data into labels and features. We employ \"train_test_split\" to partition the dataset into a training set (60% of data and the rest is for the temporary set). Then, this temporary dataset is divided equaly into validation and test sets."
   ]
  },
  {
   "cell_type": "code",
   "execution_count": 5,
   "id": "8777549b",
   "metadata": {},
   "outputs": [],
   "source": [
    "import pandas as pd\n",
    "import numpy as np\n",
    "import matplotlib.pyplot as plt\n",
    "import sklearn\n",
    "import numpy as np\n",
    "import graphviz\n",
    "import pandas as pd\n",
    "\n",
    "\n",
    "from sklearn.model_selection import train_test_split\n",
    "from sklearn.dummy import DummyClassifier\n",
    "from sklearn.model_selection import cross_val_score\n",
    "from sklearn.tree import DecisionTreeClassifier\n",
    "from sklearn.ensemble import RandomForestClassifier\n",
    "from sklearn.ensemble import GradientBoostingClassifier\n",
    "from sklearn.neural_network import MLPClassifier\n",
    "from sklearn.linear_model import Perceptron\n",
    "from sklearn.svm import LinearSVC\n",
    "\n",
    "\n",
    "from sklearn.model_selection import cross_validate\n",
    "from sklearn.model_selection import cross_val_score\n",
    "from sklearn.metrics import accuracy_score\n",
    "from sklearn.metrics import mean_squared_error\n"
   ]
  },
  {
   "cell_type": "code",
   "execution_count": 6,
   "id": "3fc9a105",
   "metadata": {},
   "outputs": [
    {
     "name": "stdout",
     "output_type": "stream",
     "text": [
      "(569,)\n",
      "(341, 31)\n",
      "(569, 31)\n",
      "(114, 31)\n",
      "(341, 31)\n",
      "(114, 31)\n"
     ]
    }
   ],
   "source": [
    "#preprocessing\n",
    "X = df.drop('malignant', axis = 1)\n",
    "y = df['malignant']\n",
    "print(y.shape)\n",
    "train_X, temp_X, train_y, temp_y = train_test_split(X, y, test_size=0.4, random_state=3)\n",
    "val_X, test_X, val_y, test_y = train_test_split(temp_X, temp_y, test_size=0.5, random_state=3)\n",
    "print(train_X.shape)\n",
    "print(X.shape)\n",
    "print(test_X.shape)\n",
    "print(train_X.shape)\n",
    "print(val_X.shape)"
   ]
  },
  {
   "cell_type": "markdown",
   "id": "dae10dbd",
   "metadata": {},
   "source": [
    "For the \"rule-based\" classifier we are going to evaluate cell characteristics such as size, shape, texture, and homogeneity against predefined criteria to determine if a sample is indicative of malignant cancer.\n",
    "Related to code-frame we define an object of mean values and define functions to calculate the mentioned characteristics. There is also a function to check rather the result \"is_abnormal\" or not. Finally, we got the \"rule_based_classifier1\" function that determines the values for each characteristic and check if any the characteristics are abnormal. If it's malignant it's classified as 1, or bening (0). Mention that we suppose as well that all features that conform the same 'class'(size, shape, etc..) have the same impact."
   ]
  },
  {
   "cell_type": "code",
   "execution_count": 7,
   "id": "a7bc7dae",
   "metadata": {},
   "outputs": [
    {
     "name": "stdout",
     "output_type": "stream",
     "text": [
      "The classification results are:\n",
      "161    1\n",
      "129    1\n",
      "232    1\n",
      "174    0\n",
      "493    0\n",
      "      ..\n",
      "284    0\n",
      "175    0\n",
      "549    1\n",
      "53     1\n",
      "235    1\n",
      "Length: 114, dtype: int64\n"
     ]
    }
   ],
   "source": [
    "#Size is measured by radius and area.\n",
    "#Shape is measured by smoothness, concavity, compactness, concave points, symmetry and fractal dimension.\n",
    "#Texture: texture\n",
    "#Homogenity: symmetry and perimeter.\n",
    "\n",
    "mean_values = {\n",
    "    'radius': train_X['radius_0'].mean(),\n",
    "    'texture': train_X['texture_0'].mean(),\n",
    "    'perimeter': train_X['perimeter_0'].mean(),\n",
    "    'area': train_X['area_0'].mean(),\n",
    "    'smoothness': train_X['smoothness_0'].mean(),\n",
    "    'compactness': train_X['compactness_0'].mean(),\n",
    "    'concavity': train_X['concavity_0'].mean(),\n",
    "    'concave points': train_X['concave points_0'].mean(),\n",
    "    'symmetry': train_X['symmetry_0'].mean(),\n",
    "    'fractal dimension': train_X['fractal dimension_0'].mean()\n",
    "}\n",
    "\n",
    "def is_abnormal(value, mean):\n",
    "    return value > mean\n",
    "\n",
    "def calculate_size(radius, area):\n",
    "    size = (radius + area) / 2\n",
    "    return is_abnormal(size, (mean_values['radius'] + mean_values['area']) / 2)\n",
    "\n",
    "def calculate_shape(smoothness, concavity, compactness, concave_points, symmetry, fractal_dimension):\n",
    "    shape = (smoothness + concavity + compactness + concave_points + symmetry + fractal_dimension) / 6\n",
    "    return is_abnormal(shape, sum([mean_values[k] for k in ['smoothness', 'concavity', 'compactness', 'concave points', 'symmetry', 'fractal dimension']]) / 6)\n",
    "\n",
    "def calculate_texture(texture):\n",
    "    return is_abnormal(texture, mean_values['texture'])\n",
    "\n",
    "def calculate_homogeneity(symmetry, perimeter):\n",
    "    homogeneity = (symmetry + perimeter) / 2\n",
    "    return is_abnormal(homogeneity, (mean_values['symmetry'] + mean_values['perimeter']) / 2)\n",
    "\n",
    "def rule_based_classifier1(df):\n",
    "    size_abnormal = calculate_size(df['radius_0'], df['area_0'])\n",
    "    shape_abnormal = calculate_shape(df['smoothness_0'], df['concavity_0'], df['compactness_0'], df['concave points_0'], df['symmetry_0'], df['fractal dimension_0'])\n",
    "    texture_abnormal = calculate_texture(df['texture_0'])\n",
    "    homogeneity_abnormal = calculate_homogeneity(df['symmetry_0'], df['perimeter_0'])\n",
    "    \n",
    "    if size_abnormal.any() or shape_abnormal.any() or texture_abnormal.any() or homogeneity_abnormal.any():\n",
    "        return 1\n",
    "    else:\n",
    "        return 0\n",
    "\n",
    "# Example: Call the classifier with the test set features\n",
    "classification_results = test_X.apply(rule_based_classifier1, axis=1)\n",
    "print(f\"The classification results are:\\n{classification_results}\")\n"
   ]
  },
  {
   "cell_type": "code",
   "execution_count": 8,
   "id": "5793d914",
   "metadata": {},
   "outputs": [
    {
     "name": "stdout",
     "output_type": "stream",
     "text": [
      "Validation Accuracy: 0.7280701754385965\n",
      "Test Accuracy: 0.7280701754385965\n"
     ]
    }
   ],
   "source": [
    "val_predictions1 = val_X.apply(rule_based_classifier1, axis=1)\n",
    "test_predictions1 = test_X.apply(rule_based_classifier1, axis=1)\n",
    "\n",
    "val_accuracy1 = accuracy_score(val_y, val_predictions1)\n",
    "test_accuracy1 = accuracy_score(test_y, test_predictions1)\n",
    "\n",
    "print(f\"Validation Accuracy: {val_accuracy1}\")\n",
    "print(f\"Test Accuracy: {test_accuracy1}\")"
   ]
  },
  {
   "cell_type": "markdown",
   "id": "9867537c",
   "metadata": {},
   "source": [
    "In order to improve our \"rule-based\" classifier we can apply a better mathematical approach. We decided to use the standard deviation given and seeing the upper and lower bounds between the mean and the standard deviation. We can multiply this std by 2 to give a higher margin to finally decide if the values are abnormal or not."
   ]
  },
  {
   "cell_type": "code",
   "execution_count": 9,
   "id": "3586fd18",
   "metadata": {},
   "outputs": [
    {
     "name": "stdout",
     "output_type": "stream",
     "text": [
      "The classification results are:\n",
      "161    1\n",
      "129    1\n",
      "232    1\n",
      "174    1\n",
      "493    1\n",
      "      ..\n",
      "284    1\n",
      "175    1\n",
      "549    1\n",
      "53     1\n",
      "235    0\n",
      "Length: 114, dtype: int64\n"
     ]
    }
   ],
   "source": [
    "#Size is measured by radius and area.\n",
    "#Shape is measured by smoothness, concavity,\n",
    "#compactness, concave points, symmetry and fractal dimension.\n",
    "#Texture is texture\n",
    "#Homogenity: symmetry and perimeter.\n",
    "mean_values = {\n",
    "    'radius': train_X['radius_0'].mean(),\n",
    "    'texture': train_X['texture_0'].mean(),\n",
    "    'perimeter': train_X['perimeter_0'].mean(),\n",
    "    'area': train_X['area_0'].mean(),\n",
    "    'smoothness': train_X['smoothness_0'].mean(),\n",
    "    'compactness': train_X['compactness_0'].mean(),\n",
    "    'concavity': train_X['concavity_0'].mean(),\n",
    "    'concave points': train_X['concave points_0'].mean(),\n",
    "    'symmetry': train_X['symmetry_0'].mean(),\n",
    "    'fractal dimension': train_X['fractal dimension_0'].mean()\n",
    "}\n",
    "std_values = {\n",
    "    'radius': train_X['radius_1'].mean(),\n",
    "    'texture': train_X['texture_1'].mean(),\n",
    "    'perimeter': train_X['perimeter_1'].mean(),\n",
    "    'area': train_X['area_1'].mean(),\n",
    "    'smoothness': train_X['smoothness_1'].mean(),\n",
    "    'compactness': train_X['compactness_1'].mean(),\n",
    "    'concavity': train_X['concavity_1'].mean(),\n",
    "    'concave points': train_X['concave points_1'].mean(),\n",
    "    'symmetry': train_X['symmetry_1'].mean(),\n",
    "    'fractal dimension': train_X['fractal dimension_1'].mean()\n",
    "}\n",
    "\n",
    "def is_abnormal(value, mean, std):\n",
    "    lower_bound = mean - 2 * std\n",
    "    upper_bound = mean + 2 * std\n",
    "    return value < lower_bound or value > upper_bound\n",
    "\n",
    "def calculate_size(radius, area):\n",
    "    size = (radius + area) / 2\n",
    "    return is_abnormal(size, (mean_values['radius'] + mean_values['area']) / 2, (std_values['radius'] + std_values['area']) / 2)\n",
    "\n",
    "def calculate_shape(smoothness, concavity, compactness, concave_points, symmetry, fractal_dimension):\n",
    "    shape = (smoothness + concavity + compactness + concave_points + symmetry + fractal_dimension) / 6\n",
    "    return is_abnormal(shape, sum([mean_values[k] for k in ['smoothness', 'concavity', 'compactness', 'concave points', 'symmetry', 'fractal dimension']]) / 6,\n",
    "                      sum([std_values[k] for k in ['smoothness', 'concavity', 'compactness', 'concave points', 'symmetry', 'fractal dimension']]) / 6)\n",
    "\n",
    "def calculate_texture(texture):\n",
    "    return is_abnormal(texture, mean_values['texture'], std_values['texture'])\n",
    "\n",
    "def calculate_homogeneity(symmetry, perimeter):\n",
    "    homogeneity = (symmetry + perimeter) / 2\n",
    "    return is_abnormal(homogeneity, (mean_values['symmetry'] + mean_values['perimeter']) / 2, (std_values['symmetry'] + std_values['perimeter']) / 2)\n",
    "\n",
    "def rule_based_classifier2(df):\n",
    "    size_abnormal = calculate_size(df['radius_0'], df['area_0'])\n",
    "    shape_abnormal = calculate_shape(df['smoothness_0'], df['concavity_0'], df['compactness_0'], df['concave points_0'], df['symmetry_0'], df['fractal dimension_0'])\n",
    "    texture_abnormal = calculate_texture(df['texture_0'])\n",
    "    homogeneity_abnormal = calculate_homogeneity(df['symmetry_0'], df['perimeter_0'])\n",
    "    \n",
    "    if size_abnormal.any() or shape_abnormal.any() or texture_abnormal.any() or homogeneity_abnormal.any():\n",
    "        return 1\n",
    "    else:\n",
    "        return 0\n",
    "\n",
    "# Example: Call the classifier with the test set features\n",
    "classification_results = test_X.apply(rule_based_classifier2, axis=1)\n",
    "print(f\"The classification results are:\\n{classification_results}\")\n"
   ]
  },
  {
   "cell_type": "code",
   "execution_count": 10,
   "id": "ddfa7a95",
   "metadata": {},
   "outputs": [
    {
     "name": "stdout",
     "output_type": "stream",
     "text": [
      "Validation Accuracy: 0.37719298245614036\n",
      "Test Accuracy: 0.37719298245614036\n"
     ]
    }
   ],
   "source": [
    "val_predictions2 = val_X.apply(rule_based_classifier2, axis=1)\n",
    "test_predictions2 = test_X.apply(rule_based_classifier2, axis=1)\n",
    "\n",
    "val_accuracy2 = accuracy_score(val_y, val_predictions2)\n",
    "test_accuracy2 = accuracy_score(test_y, test_predictions2)\n",
    "\n",
    "print(f\"Validation Accuracy: {val_accuracy2}\")\n",
    "print(f\"Test Accuracy: {test_accuracy2}\")"
   ]
  },
  {
   "cell_type": "markdown",
   "id": "b2880319",
   "metadata": {},
   "source": [
    "We got some really bad results and the end. We assume that this is due to excessive generalizing because when calculating the mean of the mean and then applying the standard deviation. These results in a range of values that are even too low or high from the central margin that we want..."
   ]
  },
  {
   "cell_type": "markdown",
   "id": "623ca307",
   "metadata": {},
   "source": [
    "So, even if our first mathematical function was too simple it was better because we are already working with means and not with simple values and then we dont need to generalize that much."
   ]
  },
  {
   "cell_type": "markdown",
   "id": "731af8a3",
   "metadata": {},
   "source": [
    "**Classifier 2 - Random Forest**"
   ]
  },
  {
   "cell_type": "markdown",
   "id": "229097d7",
   "metadata": {},
   "source": [
    "Next, we are going to implement a basic RandomForestClassifier, for this dataset this is the best classifier that we can get and it can reach even a 100% accuracy, even if we don't reach it here it is documented of the web page. Anyway, we get an 98.2% of accuracy on the validation set and a bit lower 94.7% on the test set, but as we have comment on the previous assignment this is a normal thing to happen when testing it on unseen data, generally the models perform worst on unseen data due to overfitting on training even if it wasn't too much. We try to se some parameters to this classifier like n_estimators or min_samples_split but this one is the one that give us a better performance."
   ]
  },
  {
   "cell_type": "code",
   "execution_count": 11,
   "id": "9b30f536",
   "metadata": {},
   "outputs": [
    {
     "name": "stdout",
     "output_type": "stream",
     "text": [
      "Validation accuracy: 0.9824561403508771\n",
      "Test accuracy: 0.9473684210526315\n"
     ]
    }
   ],
   "source": [
    "clf = RandomForestClassifier(max_depth = 7)\n",
    "clf.fit(train_X, train_y)\n",
    "\n",
    "# Predict on the validation set\n",
    "val_pred = clf.predict(val_X)\n",
    "\n",
    "# Calculate accuracy on the validation set\n",
    "val_acc = accuracy_score(val_y, val_pred)\n",
    "print(\"Validation accuracy:\", val_acc)\n",
    "\n",
    "# Evaluate the final model on the test set\n",
    "test_pred = clf.predict(test_X)\n",
    "test_acc = accuracy_score(test_y, test_pred)\n",
    "print(\"Test accuracy:\", test_acc)"
   ]
  },
  {
   "cell_type": "markdown",
   "id": "2b6c0001",
   "metadata": {},
   "source": [
    "\n",
    "Now we're going to implement a basic \"RandomForestClassifier\". In this particular dataset this is one of the best classifiers we ca use. It can reach up to 100% of accuracy. In our case, we get 98,2% of accuracy on the validation set, and a 94,75 on the test set. As we said on the previous assignment this is a normal when testing on unseen data. Generally models perform worst on this kind of data due to overfitting when training. We tried to see some parameters to this classifier like \"n_estimators\" or \"min_samples_split\" but this one is the one that give us a better performance.\n",
    "\n",
    "We initialize the classifier with a specified max. tree depth of 7. This parameter helps to prevent overfitting by limiting how complex the individual trees can become. The classifier is trained (fit) using the training dataset \"train_X\" and \"train_y\". This step involves building a forest of decision trees from the training data, where each tree is trained on a random subset of the data and features. Basically, the goal is for the ensemble of trees to learn to predict the outcome (malignant or benign) from the input features (cell characteristics from FNA tests)."
   ]
  },
  {
   "cell_type": "markdown",
   "id": "238f4e37",
   "metadata": {},
   "source": [
    "**Our classifier**"
   ]
  },
  {
   "cell_type": "markdown",
   "id": "63dd3c7b",
   "metadata": {},
   "source": [
    "Using the \"RandomForestClassifier\", we get the best features that we have get form training it above and we are going to train our LogisticRegression classifier only with the top ten of them. Even if is called LogisticRegression is a classifier algorithm and not a regression one, it is a statistical method used for binary classification tasks."
   ]
  },
  {
   "cell_type": "code",
   "execution_count": 12,
   "id": "7bea132e",
   "metadata": {},
   "outputs": [
    {
     "name": "stdout",
     "output_type": "stream",
     "text": [
      "Top 10 features:\n",
      "Index(['area_2', 'concave points_2', 'concave points_0', 'radius_2',\n",
      "       'perimeter_2', 'perimeter_0', 'concavity_0', 'radius_0', 'area_1',\n",
      "       'area_0'],\n",
      "      dtype='object')\n"
     ]
    }
   ],
   "source": [
    "feature_importances = clf.feature_importances_\n",
    "\n",
    "# Sort features based on their importance\n",
    "sorted_indices = np.argsort(feature_importances)[::-1]\n",
    "\n",
    "# Select the top 10 features\n",
    "top_10_features_indices = sorted_indices[:10]\n",
    "\n",
    "# Get the names of the top 10 features\n",
    "top_10_features = train_X.columns[top_10_features_indices]\n",
    "\n",
    "print(\"Top 10 features:\")\n",
    "print(top_10_features)"
   ]
  },
  {
   "cell_type": "code",
   "execution_count": 23,
   "id": "ace23fb9",
   "metadata": {},
   "outputs": [
    {
     "name": "stdout",
     "output_type": "stream",
     "text": [
      "Validation Accuracy: 0.9649122807017544\n",
      "Test Accuracy: 0.956140350877193\n"
     ]
    }
   ],
   "source": [
    "from sklearn.linear_model import LogisticRegression\n",
    "from sklearn.metrics import accuracy_score\n",
    "\n",
    "# Select the top 10 features\n",
    "top_10_features = train_X.columns[top_10_features_indices]\n",
    "\n",
    "# Extract the top 10 features from the training, validation, and test sets\n",
    "train_X_top_10 = train_X[top_10_features]\n",
    "val_X_top_10 = val_X[top_10_features]\n",
    "test_X_top_10 = test_X[top_10_features]\n",
    "#print(train_X_top_10)\n",
    "# Initialize the logistic regression classifier\n",
    "logistic_reg_classifier = LogisticRegression(max_iter = 1000)\n",
    "\n",
    "# Train the logistic regression classifier using the top 10 features\n",
    "logistic_reg_classifier.fit(train_X_top_10, train_y)\n",
    "\n",
    "# Make predictions on the validation set\n",
    "val_pred = logistic_reg_classifier.predict(val_X_top_10)\n",
    "\n",
    "# Calculate validation accuracy\n",
    "val_accuracy = accuracy_score(val_y, val_pred)\n",
    "print(\"Validation Accuracy:\", val_accuracy)\n",
    "\n",
    "# Make predictions on the test set\n",
    "test_pred = logistic_reg_classifier.predict(test_X_top_10)\n",
    "\n",
    "# Calculate test accuracy\n",
    "test_accuracy = accuracy_score(test_y, test_pred)\n",
    "print(\"Test Accuracy:\", test_accuracy)"
   ]
  },
  {
   "cell_type": "markdown",
   "id": "bb3e9007",
   "metadata": {},
   "source": [
    "We have reached a better performance in the test set for our classifier due to that we have selected the best features of the previous RandomForestClassifier model and we have train a LogisticRegressor model that works very well in this dataset(info on the webpage of the dataset), moreover the validation accuracy is very near to the test one and that means that our model generalizes very well."
   ]
  },
  {
   "cell_type": "markdown",
   "id": "6034d65f",
   "metadata": {},
   "source": [
    "Now, we are going to try it with the worst features to see the difference and with that the importance of selecting features when training a classifier."
   ]
  },
  {
   "cell_type": "code",
   "execution_count": 14,
   "id": "9f1a4a95",
   "metadata": {},
   "outputs": [
    {
     "name": "stdout",
     "output_type": "stream",
     "text": [
      "Bot 10 features:\n",
      "Index(['smoothness_1', 'symmetry_1', 'fractal dimension_0', 'concave points_1',\n",
      "       'symmetry_0', 'compactness_1', 'smoothness_0', 'id', 'texture_1',\n",
      "       'fractal dimension_1'],\n",
      "      dtype='object')\n"
     ]
    }
   ],
   "source": [
    "feature_importances = clf.feature_importances_\n",
    "\n",
    "# Sort features based on their importance\n",
    "sorted_indices = np.argsort(feature_importances)[::-1]\n",
    "\n",
    "# Select the top 10 features\n",
    "bot_10_features_indices = sorted_indices[21:]\n",
    "\n",
    "# Get the names of the top 10 features\n",
    "bot_10_features = train_X.columns[bot_10_features_indices]\n",
    "\n",
    "print(\"Bot 10 features:\")\n",
    "print(bot_10_features)"
   ]
  },
  {
   "cell_type": "markdown",
   "id": "92def83b",
   "metadata": {},
   "source": [
    "Examples with the wrong selection of features"
   ]
  },
  {
   "cell_type": "code",
   "execution_count": 15,
   "id": "c147a0f9",
   "metadata": {},
   "outputs": [
    {
     "name": "stdout",
     "output_type": "stream",
     "text": [
      "Validation Accuracy: 0.6403508771929824\n",
      "Test Accuracy: 0.6578947368421053\n"
     ]
    }
   ],
   "source": [
    "bot_10_features = train_X.columns[bot_10_features_indices]\n",
    "\n",
    "train_X_bot_10 = train_X[bot_10_features]\n",
    "val_X_bot_10 = val_X[bot_10_features]\n",
    "test_X_bot_10 = test_X[bot_10_features]\n",
    "\n",
    "logistic_reg_classifier = LogisticRegression(max_iter = 1000)\n",
    "\n",
    "\n",
    "logistic_reg_classifier.fit(train_X_bot_10, train_y)\n",
    "\n",
    "# Make predictions on the validation set\n",
    "val_pred = logistic_reg_classifier.predict(val_X_bot_10)\n",
    "\n",
    "# Calculate validation accuracy\n",
    "val_accuracy = accuracy_score(val_y, val_pred)\n",
    "print(\"Validation Accuracy:\", val_accuracy)\n",
    "\n",
    "# Make predictions on the test set\n",
    "test_pred = logistic_reg_classifier.predict(test_X_bot_10)\n",
    "\n",
    "# Calculate test accuracy\n",
    "test_accuracy = accuracy_score(test_y, test_pred)\n",
    "print(\"Test Accuracy:\", test_accuracy)"
   ]
  },
  {
   "cell_type": "markdown",
   "id": "cac028c2",
   "metadata": {},
   "source": [
    "Overall, we can conclude that our rule_based classifier was too much inferior to the other two and that can be principally due to not given all features the same weight and the difference between its algorithms, the other two classifiers were very similar on performance and the LogisticRegression was a bit better because we have already select the best features from the RandomForest so it was not strange."
   ]
  },
  {
   "cell_type": "code",
   "execution_count": 16,
   "id": "86c44c1c",
   "metadata": {},
   "outputs": [],
   "source": [
    "import matplotlib.pyplot as plt\n",
    "import seaborn as sns"
   ]
  },
  {
   "cell_type": "code",
   "execution_count": 24,
   "id": "649db566",
   "metadata": {},
   "outputs": [
    {
     "name": "stdout",
     "output_type": "stream",
     "text": [
      "[0.7280701754385965, 0.9473684210526315, 0.956140350877193]\n"
     ]
    },
    {
     "data": {
      "image/png": "[encoded data removed]",
      "text/plain": [
       "<Figure size 1000x600 with 1 Axes>"
      ]
     },
     "metadata": {},
     "output_type": "display_data"
    }
   ],
   "source": [
    "models = ['RuleBased', 'RandomForest', 'LogisticRegression']\n",
    "validation_accuracy = [val_accuracy1, val_acc, val_accuracy]  \n",
    "test_accuracys = [test_accuracy1, test_acc, test_accuracy]  \n",
    "print(test_accuracys)\n",
    "# Plotting\n",
    "plt.figure(figsize=(10, 6))\n",
    "\n",
    "plt.plot(models, validation_accuracy, marker='o', linestyle='-', color='skyblue', label='Validation Accuracy')\n",
    "plt.plot(models, test_accuracys, marker='o', linestyle='-', color='salmon', label='Test Accuracy')\n",
    "\n",
    "plt.xlabel('Models', fontsize=14)\n",
    "plt.ylabel('Accuracy', fontsize=14)\n",
    "plt.title('Comparison of Validation and Test Accuracy for Three Models', fontsize=16)\n",
    "plt.legend()\n",
    "plt.grid(True)\n",
    "\n",
    "plt.show()"
   ]
  },
  {
   "cell_type": "markdown",
   "id": "9657e232",
   "metadata": {},
   "source": [
    "3. DISCUSSION"
   ]
  },
  {
   "cell_type": "markdown",
   "id": "a97d446a",
   "metadata": {},
   "source": [
    "\n",
    "In healthcare, interpretability refers to the ability of a system to be comprehended by humans. It indicates that users can understand and trust the processes and consequences of a machine learning model, especially when making high-stakes judgments such as medical diagnosis. Interpretability is critical in healthcare to guarantee that clinical judgments made based on machine learning predictions are transparent, rational, and clinically verified. For example, in the paper \"The Mythos of Model Interpretability,\" interpretability is proposed to include aspects such as transparency (how the model processes its inputs to make decisions) and post-hoc explanations (rationales provided after a decision is made), which could be critical in explaining why an AI system suggested a specific diagnosis.\n",
    "\n",
    "The possible benefits of interpretability in healthcare include enhanced medical practitioners' faith in AI systems, better patient outcomes due to more accurate and intelligible diagnosis, and easier regulatory compliance and ethical issues. However, the goal of interpretability can sometimes result in trade-offs with model performance, since simpler models that are naturally more interpretable may not reach the same degree of accuracy as more complicated models, such as deep learning networks.\n",
    "\n",
    "Interpretability may be quantitatively described using metrics that measure the clarity of a model's decision-making process or its ability to generate explanations that are consistent with human domain expertise. For example, a model's interpretability may be determined by its ability to explain its predictions in terms of recognized medical knowledge or diagnostic criteria.\n",
    "\n",
    "In conclusion, interpretability in healthcare models is a multifaceted notion that includes the clarity, openness, and justifiability of AI predictions, all of which are critical for establishing confidence and assuring the ethical use of AI in clinical contexts.\n",
    "\n"
   ]
  },
  {
   "cell_type": "code",
   "execution_count": null,
   "id": "a70706b8",
   "metadata": {},
   "outputs": [],
   "source": []
  }
 ],
 "metadata": {
  "kernelspec": {
   "display_name": "Python 3 (ipykernel)",
   "language": "python",
   "name": "python3"
  },
  "language_info": {
   "codemirror_mode": {
    "name": "ipython",
    "version": 3
   },
   "file_extension": ".py",
   "mimetype": "text/x-python",
   "name": "python",
   "nbconvert_exporter": "python",
   "pygments_lexer": "ipython3",
   "version": "3.9.18"
  }
 },
 "nbformat": 4,
 "nbformat_minor": 5
}
